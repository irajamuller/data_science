{
  "nbformat": 4,
  "nbformat_minor": 0,
  "metadata": {
    "colab": {
      "provenance": [],
      "authorship_tag": "ABX9TyNPiayAxEqlrtFcb92wcJqi",
      "include_colab_link": true
    },
    "kernelspec": {
      "name": "python3",
      "display_name": "Python 3"
    },
    "language_info": {
      "name": "python"
    }
  },
  "cells": [
    {
      "cell_type": "markdown",
      "metadata": {
        "id": "view-in-github",
        "colab_type": "text"
      },
      "source": [
        "<a href=\"https://colab.research.google.com/github/irajamuller/data_science/blob/main/Engenharia_de_Atributo_Atividade.ipynb\" target=\"_parent\"><img src=\"https://colab.research.google.com/assets/colab-badge.svg\" alt=\"Open In Colab\"/></a>"
      ]
    },
    {
      "cell_type": "markdown",
      "source": [
        "---\n",
        "# 1 - Exercícios sobre Processamento e Visualização de Dados\n",
        "---\n",
        "Observe que cada questão vale 0.6, sendo que o total dessa atividade é 3.0.\n",
        "\n",
        "<p align=\"justify\">\n",
        "Você deverá pesquisar por um dataset na internet que seja \"interessante na sua visão\" e permita a leitura via http, pois precisarei carregá-lo no momento da correção. Após a escolha do dataset, responda o que se pede:\n",
        "</p>\n",
        "\n",
        "- 1.1 Faça a limpeza do dataset com alguma técnica apresentada em aula;\n",
        "- 1.2 Faça a normalização de alguma série/coluna;\n",
        "- 1.3 Faça uma função de agrupamento;\n",
        "- 1.4 Faça a visualização com um gráfico (há liberdade para escolher o tipo de gráfico, desde que faça sentido com os eixos X e Y);\n",
        "- 1.5 Aplique um dos conceitos abordados na Engenharia de Atributos.\n",
        "\n",
        "<p align=\"justify\">\n",
        "<strong>Importante</strong>: deixe claro no texto do notebook qual etapa você está fazendo. Ainda, escolha um dataset simples mas que seja possível executar as etapas acima.\n",
        "</p>"
      ],
      "metadata": {
        "id": "hcywDYpQGd-y"
      }
    },
    {
      "cell_type": "code",
      "execution_count": null,
      "metadata": {
        "id": "3grlqOMSFlfF"
      },
      "outputs": [],
      "source": []
    }
  ]
}