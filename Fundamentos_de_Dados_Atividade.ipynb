{
  "nbformat": 4,
  "nbformat_minor": 0,
  "metadata": {
    "colab": {
      "provenance": [],
      "toc_visible": true,
      "authorship_tag": "ABX9TyMIsQ+GpRrlSt8WzzJ562K1",
      "include_colab_link": true
    },
    "kernelspec": {
      "name": "python3",
      "display_name": "Python 3"
    },
    "language_info": {
      "name": "python"
    }
  },
  "cells": [
    {
      "cell_type": "markdown",
      "metadata": {
        "id": "view-in-github",
        "colab_type": "text"
      },
      "source": [
        "<a href=\"https://colab.research.google.com/github/irajamuller/data_science/blob/main/Fundamentos_de_Dados_Atividade.ipynb\" target=\"_parent\"><img src=\"https://colab.research.google.com/assets/colab-badge.svg\" alt=\"Open In Colab\"/></a>"
      ]
    },
    {
      "cell_type": "markdown",
      "source": [
        "---\n",
        "# 1 - Exercícios sobre a Biblioteca NumPy\n",
        "---\n",
        "Observe que cada questão vale 0.2, sendo que o total dessa atividade é 2.0.\n",
        "\n",
        "Com base no cenário a seguir, responda o que se pede.\n"
      ],
      "metadata": {
        "id": "G1ESseBmzV9C"
      }
    },
    {
      "cell_type": "code",
      "execution_count": null,
      "metadata": {
        "id": "rQQy0_jnwm-F"
      },
      "outputs": [],
      "source": [
        "import numpy as np\n",
        "\n",
        "A = np.array([\n",
        "    [1, 2],\n",
        "    [3, 4]\n",
        "])\n",
        "\n",
        "B = np.array([\n",
        "    [5, 6],\n",
        "    [7, 8]\n",
        "])"
      ]
    },
    {
      "cell_type": "markdown",
      "source": [
        "### 1.1 - Considere as duas matrizes acima $A$ e $B$ e calcule a transposta de A e B. A transposta de uma matriz é representada por $A^T$."
      ],
      "metadata": {
        "id": "neRkkiklz5T1"
      }
    },
    {
      "cell_type": "code",
      "source": [
        "# Resposta AQUI"
      ],
      "metadata": {
        "id": "bGSClSl60KBm"
      },
      "execution_count": null,
      "outputs": []
    },
    {
      "cell_type": "markdown",
      "source": [
        "### 1.2 - Considere as duas matrizes acima  $A$  e  $B$ e calcule o produto matricial $A$ e $B$ usando @ (produto de matrizes)."
      ],
      "metadata": {
        "id": "oVpdBJTSz2VQ"
      }
    },
    {
      "cell_type": "code",
      "source": [
        "# Resposta AQUI"
      ],
      "metadata": {
        "id": "ZwyeOMdh0zpb"
      },
      "execution_count": null,
      "outputs": []
    },
    {
      "cell_type": "markdown",
      "source": [
        "### 1.3 - Considere as duas matrizes acima  $A$ e $B$ e calcule o produto matricial da $A^T$ x $B$ e $A$ x $B^T$.\n"
      ],
      "metadata": {
        "id": "z7tAT5DT0480"
      }
    },
    {
      "cell_type": "code",
      "source": [
        "# Resposta AQUI"
      ],
      "metadata": {
        "id": "ErUh1Hcv14HF"
      },
      "execution_count": null,
      "outputs": []
    },
    {
      "cell_type": "markdown",
      "source": [
        "---\n",
        "# 2 - Exercícios sobre a Biblioteca Pandas\n",
        "---\n",
        "Com base na descrição do dataset <strong>penguins</strong> presente na biblioteca Seaborn, responda o que se pede.\n",
        "\n",
        "| Atributo            | Tipo             | Descrição                                                            |\n",
        "| ------------------- | ---------------- | -------------------------------------------------------------------- |\n",
        "| `species`           | Categórico       | Espécie do pinguim (`Adelie`, `Chinstrap` ou `Gentoo`)               |\n",
        "| `island`            | Categórico       | Ilha onde o pinguim foi observado (`Biscoe`, `Dream` ou `Torgersen`) |\n",
        "| `bill_length_mm`    | Numérico (float) | Comprimento do bico em milímetros                                    |\n",
        "| `bill_depth_mm`     | Numérico (float) | Profundidade do bico em milímetros                                   |\n",
        "| `flipper_length_mm` | Numérico (int)   | Comprimento da nadadeira em milímetros                               |\n",
        "| `body_mass_g`       | Numérico (int)   | Massa corporal em gramas                                             |\n",
        "| `sex`               | Categórico       | Sexo do pinguim (`Male`, `Female`)                                   |\n",
        "| `year`              | Numérico (int)   | Ano em que a observação foi feita (`2007`, `2008`, `2009`)           |\n"
      ],
      "metadata": {
        "id": "wP6JxcNc16wN"
      }
    },
    {
      "cell_type": "code",
      "source": [
        "import seaborn as sns\n",
        "import pandas as pd\n",
        "\n",
        "# Carregamento do dataset\n",
        "df = sns.load_dataset(\"penguins\")"
      ],
      "metadata": {
        "id": "Q60dOM_3244A"
      },
      "execution_count": null,
      "outputs": []
    },
    {
      "cell_type": "markdown",
      "source": [
        "### 2.1 - Quantos pinguins pertencem à espécie Adelie?"
      ],
      "metadata": {
        "id": "NDbSvmVJ28Ty"
      }
    },
    {
      "cell_type": "code",
      "source": [
        "# Resposta AQUI\n"
      ],
      "metadata": {
        "id": "YRj7rgtV3ORZ"
      },
      "execution_count": null,
      "outputs": []
    },
    {
      "cell_type": "markdown",
      "source": [
        "### 2.2 - Quais são as espécies únicas de pinguins?"
      ],
      "metadata": {
        "id": "Zf3G3SoR3TQg"
      }
    },
    {
      "cell_type": "code",
      "source": [
        "# Resposta AQUI"
      ],
      "metadata": {
        "id": "pViFTRhi3jib"
      },
      "execution_count": null,
      "outputs": []
    },
    {
      "cell_type": "markdown",
      "source": [
        "### 2.3 - Mostre os pinguins com massa corporal acima de 5000g."
      ],
      "metadata": {
        "id": "BADgyl933lJr"
      }
    },
    {
      "cell_type": "code",
      "source": [
        "# Resposta AQUI"
      ],
      "metadata": {
        "id": "blMQ40pQ3vyt"
      },
      "execution_count": null,
      "outputs": []
    },
    {
      "cell_type": "markdown",
      "source": [
        "### 2.4 - Qual o peso médio dos pinguins da ilha Biscoe?"
      ],
      "metadata": {
        "id": "gxPOGE6V4y8Z"
      }
    },
    {
      "cell_type": "code",
      "source": [
        "# Resposta AQUI"
      ],
      "metadata": {
        "id": "ZE2OIySF47om"
      },
      "execution_count": null,
      "outputs": []
    },
    {
      "cell_type": "markdown",
      "source": [
        "### 2.5 - Qual o maior comprimento do bico?"
      ],
      "metadata": {
        "id": "ffxFSwI45Fed"
      }
    },
    {
      "cell_type": "code",
      "source": [
        "# Resposta AQUI"
      ],
      "metadata": {
        "id": "nXfszsx_5OtH"
      },
      "execution_count": null,
      "outputs": []
    },
    {
      "cell_type": "markdown",
      "source": [
        "### 2.6 - Qual a média do comprimento da nadadeira dos machos da ilha Dream?"
      ],
      "metadata": {
        "id": "9LfCasMO5Ujg"
      }
    },
    {
      "cell_type": "code",
      "source": [
        "# Resposta AQUI"
      ],
      "metadata": {
        "id": "ndbX-9ID60Rp"
      },
      "execution_count": null,
      "outputs": []
    },
    {
      "cell_type": "markdown",
      "source": [
        "### 2.7 - Quais são os 5 pinguins mais pesados?"
      ],
      "metadata": {
        "id": "JtokX4B-54WE"
      }
    },
    {
      "cell_type": "code",
      "source": [
        "# Resposta AQUI"
      ],
      "metadata": {
        "id": "SrUZttal581i"
      },
      "execution_count": null,
      "outputs": []
    }
  ]
}