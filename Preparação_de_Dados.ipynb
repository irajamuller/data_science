{
  "nbformat": 4,
  "nbformat_minor": 0,
  "metadata": {
    "colab": {
      "provenance": [],
      "toc_visible": true,
      "authorship_tag": "ABX9TyM8C/I/jTngDGQZadM6+ZXG",
      "include_colab_link": true
    },
    "kernelspec": {
      "name": "python3",
      "display_name": "Python 3"
    },
    "language_info": {
      "name": "python"
    }
  },
  "cells": [
    {
      "cell_type": "markdown",
      "metadata": {
        "id": "view-in-github",
        "colab_type": "text"
      },
      "source": [
        "<a href=\"https://colab.research.google.com/github/irajamuller/data_science/blob/main/Prepara%C3%A7%C3%A3o_de_Dados.ipynb\" target=\"_parent\"><img src=\"https://colab.research.google.com/assets/colab-badge.svg\" alt=\"Open In Colab\"/></a>"
      ]
    },
    {
      "cell_type": "markdown",
      "source": [
        "### NumPy\n",
        "\n",
        "O `ndarray` é a estrutura de dados básica da biblioteca Numpy. Qualquer um dos métodos analíticos implementados pelo NumPy irá requerer que os dados estejam armazenados nesta estrutura. Por se tratar de uma estrutura voltada para alto desempenho, o ndarray é implementado como um nódulo de baixo nível escrito na linguagem C utilizando a API para interface com a linguagem Python. Este método de implmeentação é comumente utilizado por módulos que requerem operações de alto desempenho, as quais não são suportadas pelos métodos ou estruturas nativas da linguagem Python.\n",
        "\n",
        "Em baixo nível, o ndarray é uma estrutura de dados alocada de forma contígua em memória, armazenando elementos de forma compacta e homogênea em memória. Diferentemente das estruturas básicas do Python, um ndarray armazena valores de um único tipo de dados, o qual é definido no momento em que a estrutura é instanciada. Há suporte para a maioria dos tipos inteiros e de ponto flutuante que estão disponíveis em linguagens de programação com tipagem forte (tal como o C). A informação do tipo de dados encontra-se armazenada em uma estrutura de cabeçalho, a qual também irá conter outros metadados da estrutura, tal como duas dimensões e tamanhos. Estas informações são utilizadas para controlar operações de leitura e escrita de dados na estrutura de forma eficiente por cálculos de deslocamento. A figura abaixo apresenta um diagrama que sumariza a estrutura de baixo nível do ndarray.\n",
        "\n",
        "![Estrutura do ndarray](https://raw.githubusercontent.com/irajamuller/data_science/main/figs/ndarray_structure.jpg)\n",
        "\n",
        "Por se tratar de uma estrutura simples e eficiente para manipulação de dados numéricos vetoriais, o ndarray é utilizado internamente por uma ampla gama de outras bibliotecas do Python que também tem o requisito de alto desempenho. Alguns exemplos incluem Pytorch e Tensorflow (duas bibliotecas amplamente utilizadas para trabalho com redes neurais profundas), OpenCV (biblioteca para trabalho com visão computacional), e a própria Pandas.\n",
        "\n",
        "Neste notebook iremos aprender algumas das funções básicas disponíveis para a criação e manipulação de ndarrays. Antes de qualquer coisa, precisamos instalar a biblioteca NumPy em nosso ambiente Python e importar o NumPy para nosso notebook."
      ],
      "metadata": {
        "id": "3YSjVf-dlsl5"
      }
    },
    {
      "cell_type": "code",
      "source": [
        "#!pip show numpy\n",
        "import numpy as np"
      ],
      "metadata": {
        "id": "ttiEwFpdx3io"
      },
      "execution_count": null,
      "outputs": []
    },
    {
      "cell_type": "markdown",
      "source": [
        "Com o a biblioteca NumPy importada, podemos utilizar os métodos disponíveis para a criação de ndarrays com diferentes características. Uma possibilidade é a criação de um ndarray com todos os valores inicializados com zero. Para isso, podemos utilizar o método `zeros`. O primeiro parâmetro para este método são as dimensões do ndarray, que no caso de duas dimensões será uma tupla `(linhas, colunas)`. Também utilizaremos o parâmetro `dtype` para especificar o tipo de dado que será armazenado, que no exemplo será um inteiro de 32 bits."
      ],
      "metadata": {
        "id": "8qYYEuqQyTON"
      }
    },
    {
      "cell_type": "code",
      "source": [
        "ndarray = np.zeros((3, 4), dtype=np.int32) # Cria um ndarray com dimensões 3 por 4\n",
        "print(ndarray)"
      ],
      "metadata": {
        "id": "GKpoNrsfybzq"
      },
      "execution_count": null,
      "outputs": []
    },
    {
      "cell_type": "markdown",
      "source": [
        "Neste caso, para alterar valores pontuais do ndarray, podemos utilizar indexação de arrays utilizando colchetes, como no exemplo abaixo. Repare que, assim como em outras linguagens de programação, a indexação de linhas e colunas inicia em $0$ e se estende até $n-1$ (onde $n$ é o limite da dimensão que está sendo acessada)."
      ],
      "metadata": {
        "id": "FEWatg7gymjd"
      }
    },
    {
      "cell_type": "code",
      "source": [
        "ndarray[1, 2] = 5 # Altera o valor do item na posição [2, 3] para 5\n",
        "print(ndarray)"
      ],
      "metadata": {
        "id": "V7D4SNm3ypQp"
      },
      "execution_count": null,
      "outputs": []
    },
    {
      "cell_type": "markdown",
      "source": [
        "Outro método comumente utilizado para criar um ndarray é a partir de uma outra estrutura do Python, tal como uma lista com valores inteiros. Também podemos utilizar o encadeamento para criar um ndarray utilizando as listas tradicionais do Python, como realizado no exemplo abaixo, através do método `array`. Repare que este método também permite especificar o tipo de dado que será utilizado pelo ndarray."
      ],
      "metadata": {
        "id": "brZ8gA3Bywdo"
      }
    },
    {
      "cell_type": "code",
      "source": [
        "lista_python = [ [1, 2, 3, 4], [5, 6, 7, 8], [9, 10, 11, 12] ]\n",
        "ndarray = np.array(lista_python, dtype=np.float32) # Cria um ndarray utilizando os dados contidos em uma lista do Python\n",
        "print(ndarray)"
      ],
      "metadata": {
        "id": "30wWa5TUy1XG"
      },
      "execution_count": null,
      "outputs": []
    },
    {
      "cell_type": "markdown",
      "source": [
        "Assim como no caso do Pandas, também podemos realizar a carga de dados para um ndarray a partir de um arquivo de texto no formato CSV. O exemplo abaixo utiliza o método `loadtxt` para ler um arquivo CSV, especificando o separador de cada coluna como uma vírgula. O método também permite especificar qual o tipo de dado que será utilizado para a conversão do array.\n",
        "\n",
        "Observe que o ndarray é uma estrutura menos flexível que o Dataframe do Pandas. Enquanto o Dataframe permite converter cada coluna para um tipo de dados distinto, no ndarray espera que todos os valores pertençam ao mesmo tipo de dados."
      ],
      "metadata": {
        "id": "SVRV32pwy8nb"
      }
    },
    {
      "cell_type": "code",
      "source": [
        "temps = np.loadtxt('https://raw.githubusercontent.com/irajamuller/data_science/main/dataset/temperaturas_outono.csv'\n",
        ", delimiter=',', dtype=np.float32) # Carrega os dados de um arquivo CSV para um ndarray\n",
        "print(temps)"
      ],
      "metadata": {
        "id": "bUCNukgnzBsC"
      },
      "execution_count": null,
      "outputs": []
    },
    {
      "cell_type": "markdown",
      "source": [
        "A biblioteca NumPy também permite salvar e carregar os dados de um ndarray de um arquivo binário. Este formato usualmente é referido com a extensão NPY e se trata de um formato binário específico para armazenar informações de um ndarray do NumPy. Este formato é suportado pelo próprio NumPy e por algumas bibliotecas do Python, como o Pandas."
      ],
      "metadata": {
        "id": "G01IBut30Rng"
      }
    },
    {
      "cell_type": "code",
      "source": [
        "np.save('temperaturas.npy', temps) # Salvar os dados contidos no ndarray em um arquivo binário"
      ],
      "metadata": {
        "id": "xA1Y3Rae0XAD"
      },
      "execution_count": 8,
      "outputs": []
    },
    {
      "cell_type": "code",
      "source": [
        "carregado = np.load('temperaturas.npy') # Carrega os dados contidos para um ndarray. O arquivo deve obedecer o formato binário esperado pelo NumPy\n",
        "print(carregado)"
      ],
      "metadata": {
        "id": "hUOGqiNX0ugU"
      },
      "execution_count": null,
      "outputs": []
    },
    {
      "cell_type": "markdown",
      "source": [
        "O NumPy oferece alguns comandos básicos para analisar as propriedades básicas de um ndarray, tais como o tamanho, dimensões, e tipo dos dados. As células abaixo contém exemplos do uso desses comandos utilizando o ndarray que carregamos no último exemplo."
      ],
      "metadata": {
        "id": "N9IBtx5h011J"
      }
    },
    {
      "cell_type": "code",
      "source": [
        "print(carregado.size) # propriedade contendo o número de itens armazenados no ndarray"
      ],
      "metadata": {
        "id": "vYFTe-c804Hl"
      },
      "execution_count": null,
      "outputs": []
    },
    {
      "cell_type": "code",
      "source": [
        "print(carregado.dtype) # propriedade contendo o tipo de dado armazenado em cada um dos itens do ndarray"
      ],
      "metadata": {
        "id": "mS22p5u105rD"
      },
      "execution_count": null,
      "outputs": []
    },
    {
      "cell_type": "code",
      "source": [
        "print(carregado.ndim) # propriedade contendo o número de dimensões contidas no ndarray"
      ],
      "metadata": {
        "id": "bWoe__tt09f0"
      },
      "execution_count": null,
      "outputs": []
    },
    {
      "cell_type": "code",
      "source": [
        "print(carregado.shape) # propriedade contendo uma tupla que especifica o tamanho de cada dimensão do ndarray"
      ],
      "metadata": {
        "id": "7KqLGEHw1AqR"
      },
      "execution_count": null,
      "outputs": []
    },
    {
      "cell_type": "markdown",
      "source": [
        "Um exemplo anterior já mostrou que podemos acessar elementos individuais de um ndarray utilizando o operador de indexação do Python (especificando a posição numérica entre colchetes). Podemos utilizar os operadores de indexação do Python para acessar diferentes porções do ndarray. As células abaixo apresentam algusn exemplos de operações de indexação."
      ],
      "metadata": {
        "id": "p7gk9F6m2A3e"
      }
    },
    {
      "cell_type": "code",
      "source": [
        "print(carregado[0]) # acessa uma linha completa do array utilizando através da indexação de uma dimensão"
      ],
      "metadata": {
        "id": "IotPX_NV2E28"
      },
      "execution_count": null,
      "outputs": []
    },
    {
      "cell_type": "code",
      "source": [
        "print(carregado[0, :12]) # Acessa os 12 primeiros valores contidos na primeira linha"
      ],
      "metadata": {
        "id": "Au1ig_FN2IXB"
      },
      "execution_count": null,
      "outputs": []
    },
    {
      "cell_type": "code",
      "source": [
        "print(carregado[:, :12]) # Acessa os 12 primeiros valores contidos em cada uma das linhas"
      ],
      "metadata": {
        "id": "ijGAxOVn2K79"
      },
      "execution_count": null,
      "outputs": []
    },
    {
      "cell_type": "code",
      "source": [
        "print(carregado[:, 0]) # Cria um ndarray com o primeiro valor de cada uma das linhas"
      ],
      "metadata": {
        "id": "OXPkMZN72SYh"
      },
      "execution_count": null,
      "outputs": []
    },
    {
      "cell_type": "markdown",
      "source": [
        "Um ndarray também pode ser manipulado através de funções de divisão e agregação. Isso permite que, por exemplo, um ndarray seja dividido em um número especificado de partes iguais. As células abaixo apresentam exemplos dos métodos de divisão e concatenação."
      ],
      "metadata": {
        "id": "1rVWHJCN2ike"
      }
    },
    {
      "cell_type": "code",
      "source": [
        "por_dia = np.split(carregado, 7) # divide o ndarray em sete partes iguais na dimensão de mais alto nível\n",
        "for dia in por_dia:\n",
        "    print(dia) # Imprime cada um das divisões criadas pelo comando split."
      ],
      "metadata": {
        "id": "KA8qWncq2mFv"
      },
      "execution_count": null,
      "outputs": []
    },
    {
      "cell_type": "code",
      "source": [
        "concatenado = np.concatenate(por_dia)\n",
        "print(concatenado)"
      ],
      "metadata": {
        "id": "YXgTX9ng24uA"
      },
      "execution_count": null,
      "outputs": []
    },
    {
      "cell_type": "markdown",
      "source": [
        "### Pandas\n",
        "\n",
        "O dataframe é a principal estrutura de dados disponibilizada pela biblioteca Pandas para o processamento e análise de dados. Todos os métodos disponíveis na bibloteca utilizam o Dataframe como estrutura básica para execução. O dataframe do pandas pode ser comparado com uma planilha de aplicativos como o Microsoft Excel, onde os dados são organizados de forma tabular. Cada linha da tabela representa um registro, identificado unicamente por um valor inteiro, e cada coluna representa um dos campos disponíveis no registro, identificada por uma string.\n",
        "\n",
        "Cada coluna de um dataframe é representada como um objeto do tipo Series do Pandas. Em suma, uma Series é um array indexado por valores inteiros onde todos os elementos pertencem a um mesmo tipo. Cabe ressaltar que tanto o Dataframe quanto a Series são tipos de dados implementados de forma otimizada utilizanod extensões em linguagem de baixo nível de forma a apresentarem alto desempenho ao tratar grandes volumes de dados. A figura abaixo apresenta uma ilustração de como um Dataframe do Pandas é organizado.\n",
        "\n",
        "![Estrutura de um Dataframe do Pandas](https://raw.githubusercontent.com/irajamuller/data_science/main/figs/pandas_structure.jpg)\n",
        "\n",
        "Para utilizarmos um Dataframe, primeiramente precisamos importar a biblioteca Pandas no nosso código."
      ],
      "metadata": {
        "id": "HDu_Nn243iyb"
      }
    },
    {
      "cell_type": "code",
      "source": [
        "import pandas as pd"
      ],
      "metadata": {
        "id": "n9f0i4Ey8uAJ"
      },
      "execution_count": 31,
      "outputs": []
    },
    {
      "cell_type": "markdown",
      "source": [
        "No exemplo abaixo, iremos criar um novo Dataframe utilizando os dados contidos em um dicionário do Python. Repare na forma como o diconário está organizado e como ele será estruturado na forma de um Dataframe."
      ],
      "metadata": {
        "id": "M-3kGTTR8yPC"
      }
    },
    {
      "cell_type": "code",
      "source": [
        "data = {\n",
        "    'Nome': ['Ana', 'João', 'Maria', 'Carlos', 'Paula'],\n",
        "    'Idade': [23, 34, 45, 36, 27],\n",
        "    'Cidade': ['SP', 'RJ', 'MG', 'RS', 'SP'],\n",
        "    'Glicose': [85, 140, 95, 200, 105]\n",
        "}\n",
        "\n",
        "df = pd.DataFrame(data)\n",
        "df # Jupyter Notebook irá formatar o Dataframe como uma planilha."
      ],
      "metadata": {
        "colab": {
          "base_uri": "https://localhost:8080/",
          "height": 206
        },
        "id": "-vs-F0ma8x0t",
        "outputId": "0c73b104-2876-45bc-e9a2-5e4333829dfc"
      },
      "execution_count": 37,
      "outputs": [
        {
          "output_type": "execute_result",
          "data": {
            "text/plain": [
              "     Nome  Idade Cidade  Glicose\n",
              "0     Ana     23     SP       85\n",
              "1    João     34     RJ      140\n",
              "2   Maria     45     MG       95\n",
              "3  Carlos     36     RS      200\n",
              "4   Paula     27     SP      105"
            ],
            "text/html": [
              "\n",
              "  <div id=\"df-0518559b-f0f9-4ead-8a0d-740184acf006\" class=\"colab-df-container\">\n",
              "    <div>\n",
              "<style scoped>\n",
              "    .dataframe tbody tr th:only-of-type {\n",
              "        vertical-align: middle;\n",
              "    }\n",
              "\n",
              "    .dataframe tbody tr th {\n",
              "        vertical-align: top;\n",
              "    }\n",
              "\n",
              "    .dataframe thead th {\n",
              "        text-align: right;\n",
              "    }\n",
              "</style>\n",
              "<table border=\"1\" class=\"dataframe\">\n",
              "  <thead>\n",
              "    <tr style=\"text-align: right;\">\n",
              "      <th></th>\n",
              "      <th>Nome</th>\n",
              "      <th>Idade</th>\n",
              "      <th>Cidade</th>\n",
              "      <th>Glicose</th>\n",
              "    </tr>\n",
              "  </thead>\n",
              "  <tbody>\n",
              "    <tr>\n",
              "      <th>0</th>\n",
              "      <td>Ana</td>\n",
              "      <td>23</td>\n",
              "      <td>SP</td>\n",
              "      <td>85</td>\n",
              "    </tr>\n",
              "    <tr>\n",
              "      <th>1</th>\n",
              "      <td>João</td>\n",
              "      <td>34</td>\n",
              "      <td>RJ</td>\n",
              "      <td>140</td>\n",
              "    </tr>\n",
              "    <tr>\n",
              "      <th>2</th>\n",
              "      <td>Maria</td>\n",
              "      <td>45</td>\n",
              "      <td>MG</td>\n",
              "      <td>95</td>\n",
              "    </tr>\n",
              "    <tr>\n",
              "      <th>3</th>\n",
              "      <td>Carlos</td>\n",
              "      <td>36</td>\n",
              "      <td>RS</td>\n",
              "      <td>200</td>\n",
              "    </tr>\n",
              "    <tr>\n",
              "      <th>4</th>\n",
              "      <td>Paula</td>\n",
              "      <td>27</td>\n",
              "      <td>SP</td>\n",
              "      <td>105</td>\n",
              "    </tr>\n",
              "  </tbody>\n",
              "</table>\n",
              "</div>\n",
              "    <div class=\"colab-df-buttons\">\n",
              "\n",
              "  <div class=\"colab-df-container\">\n",
              "    <button class=\"colab-df-convert\" onclick=\"convertToInteractive('df-0518559b-f0f9-4ead-8a0d-740184acf006')\"\n",
              "            title=\"Convert this dataframe to an interactive table.\"\n",
              "            style=\"display:none;\">\n",
              "\n",
              "  <svg xmlns=\"http://www.w3.org/2000/svg\" height=\"24px\" viewBox=\"0 -960 960 960\">\n",
              "    <path d=\"M120-120v-720h720v720H120Zm60-500h600v-160H180v160Zm220 220h160v-160H400v160Zm0 220h160v-160H400v160ZM180-400h160v-160H180v160Zm440 0h160v-160H620v160ZM180-180h160v-160H180v160Zm440 0h160v-160H620v160Z\"/>\n",
              "  </svg>\n",
              "    </button>\n",
              "\n",
              "  <style>\n",
              "    .colab-df-container {\n",
              "      display:flex;\n",
              "      gap: 12px;\n",
              "    }\n",
              "\n",
              "    .colab-df-convert {\n",
              "      background-color: #E8F0FE;\n",
              "      border: none;\n",
              "      border-radius: 50%;\n",
              "      cursor: pointer;\n",
              "      display: none;\n",
              "      fill: #1967D2;\n",
              "      height: 32px;\n",
              "      padding: 0 0 0 0;\n",
              "      width: 32px;\n",
              "    }\n",
              "\n",
              "    .colab-df-convert:hover {\n",
              "      background-color: #E2EBFA;\n",
              "      box-shadow: 0px 1px 2px rgba(60, 64, 67, 0.3), 0px 1px 3px 1px rgba(60, 64, 67, 0.15);\n",
              "      fill: #174EA6;\n",
              "    }\n",
              "\n",
              "    .colab-df-buttons div {\n",
              "      margin-bottom: 4px;\n",
              "    }\n",
              "\n",
              "    [theme=dark] .colab-df-convert {\n",
              "      background-color: #3B4455;\n",
              "      fill: #D2E3FC;\n",
              "    }\n",
              "\n",
              "    [theme=dark] .colab-df-convert:hover {\n",
              "      background-color: #434B5C;\n",
              "      box-shadow: 0px 1px 3px 1px rgba(0, 0, 0, 0.15);\n",
              "      filter: drop-shadow(0px 1px 2px rgba(0, 0, 0, 0.3));\n",
              "      fill: #FFFFFF;\n",
              "    }\n",
              "  </style>\n",
              "\n",
              "    <script>\n",
              "      const buttonEl =\n",
              "        document.querySelector('#df-0518559b-f0f9-4ead-8a0d-740184acf006 button.colab-df-convert');\n",
              "      buttonEl.style.display =\n",
              "        google.colab.kernel.accessAllowed ? 'block' : 'none';\n",
              "\n",
              "      async function convertToInteractive(key) {\n",
              "        const element = document.querySelector('#df-0518559b-f0f9-4ead-8a0d-740184acf006');\n",
              "        const dataTable =\n",
              "          await google.colab.kernel.invokeFunction('convertToInteractive',\n",
              "                                                    [key], {});\n",
              "        if (!dataTable) return;\n",
              "\n",
              "        const docLinkHtml = 'Like what you see? Visit the ' +\n",
              "          '<a target=\"_blank\" href=https://colab.research.google.com/notebooks/data_table.ipynb>data table notebook</a>'\n",
              "          + ' to learn more about interactive tables.';\n",
              "        element.innerHTML = '';\n",
              "        dataTable['output_type'] = 'display_data';\n",
              "        await google.colab.output.renderOutput(dataTable, element);\n",
              "        const docLink = document.createElement('div');\n",
              "        docLink.innerHTML = docLinkHtml;\n",
              "        element.appendChild(docLink);\n",
              "      }\n",
              "    </script>\n",
              "  </div>\n",
              "\n",
              "\n",
              "    <div id=\"df-4594db42-6227-482e-a0c7-77284e5a8d67\">\n",
              "      <button class=\"colab-df-quickchart\" onclick=\"quickchart('df-4594db42-6227-482e-a0c7-77284e5a8d67')\"\n",
              "                title=\"Suggest charts\"\n",
              "                style=\"display:none;\">\n",
              "\n",
              "<svg xmlns=\"http://www.w3.org/2000/svg\" height=\"24px\"viewBox=\"0 0 24 24\"\n",
              "     width=\"24px\">\n",
              "    <g>\n",
              "        <path d=\"M19 3H5c-1.1 0-2 .9-2 2v14c0 1.1.9 2 2 2h14c1.1 0 2-.9 2-2V5c0-1.1-.9-2-2-2zM9 17H7v-7h2v7zm4 0h-2V7h2v10zm4 0h-2v-4h2v4z\"/>\n",
              "    </g>\n",
              "</svg>\n",
              "      </button>\n",
              "\n",
              "<style>\n",
              "  .colab-df-quickchart {\n",
              "      --bg-color: #E8F0FE;\n",
              "      --fill-color: #1967D2;\n",
              "      --hover-bg-color: #E2EBFA;\n",
              "      --hover-fill-color: #174EA6;\n",
              "      --disabled-fill-color: #AAA;\n",
              "      --disabled-bg-color: #DDD;\n",
              "  }\n",
              "\n",
              "  [theme=dark] .colab-df-quickchart {\n",
              "      --bg-color: #3B4455;\n",
              "      --fill-color: #D2E3FC;\n",
              "      --hover-bg-color: #434B5C;\n",
              "      --hover-fill-color: #FFFFFF;\n",
              "      --disabled-bg-color: #3B4455;\n",
              "      --disabled-fill-color: #666;\n",
              "  }\n",
              "\n",
              "  .colab-df-quickchart {\n",
              "    background-color: var(--bg-color);\n",
              "    border: none;\n",
              "    border-radius: 50%;\n",
              "    cursor: pointer;\n",
              "    display: none;\n",
              "    fill: var(--fill-color);\n",
              "    height: 32px;\n",
              "    padding: 0;\n",
              "    width: 32px;\n",
              "  }\n",
              "\n",
              "  .colab-df-quickchart:hover {\n",
              "    background-color: var(--hover-bg-color);\n",
              "    box-shadow: 0 1px 2px rgba(60, 64, 67, 0.3), 0 1px 3px 1px rgba(60, 64, 67, 0.15);\n",
              "    fill: var(--button-hover-fill-color);\n",
              "  }\n",
              "\n",
              "  .colab-df-quickchart-complete:disabled,\n",
              "  .colab-df-quickchart-complete:disabled:hover {\n",
              "    background-color: var(--disabled-bg-color);\n",
              "    fill: var(--disabled-fill-color);\n",
              "    box-shadow: none;\n",
              "  }\n",
              "\n",
              "  .colab-df-spinner {\n",
              "    border: 2px solid var(--fill-color);\n",
              "    border-color: transparent;\n",
              "    border-bottom-color: var(--fill-color);\n",
              "    animation:\n",
              "      spin 1s steps(1) infinite;\n",
              "  }\n",
              "\n",
              "  @keyframes spin {\n",
              "    0% {\n",
              "      border-color: transparent;\n",
              "      border-bottom-color: var(--fill-color);\n",
              "      border-left-color: var(--fill-color);\n",
              "    }\n",
              "    20% {\n",
              "      border-color: transparent;\n",
              "      border-left-color: var(--fill-color);\n",
              "      border-top-color: var(--fill-color);\n",
              "    }\n",
              "    30% {\n",
              "      border-color: transparent;\n",
              "      border-left-color: var(--fill-color);\n",
              "      border-top-color: var(--fill-color);\n",
              "      border-right-color: var(--fill-color);\n",
              "    }\n",
              "    40% {\n",
              "      border-color: transparent;\n",
              "      border-right-color: var(--fill-color);\n",
              "      border-top-color: var(--fill-color);\n",
              "    }\n",
              "    60% {\n",
              "      border-color: transparent;\n",
              "      border-right-color: var(--fill-color);\n",
              "    }\n",
              "    80% {\n",
              "      border-color: transparent;\n",
              "      border-right-color: var(--fill-color);\n",
              "      border-bottom-color: var(--fill-color);\n",
              "    }\n",
              "    90% {\n",
              "      border-color: transparent;\n",
              "      border-bottom-color: var(--fill-color);\n",
              "    }\n",
              "  }\n",
              "</style>\n",
              "\n",
              "      <script>\n",
              "        async function quickchart(key) {\n",
              "          const quickchartButtonEl =\n",
              "            document.querySelector('#' + key + ' button');\n",
              "          quickchartButtonEl.disabled = true;  // To prevent multiple clicks.\n",
              "          quickchartButtonEl.classList.add('colab-df-spinner');\n",
              "          try {\n",
              "            const charts = await google.colab.kernel.invokeFunction(\n",
              "                'suggestCharts', [key], {});\n",
              "          } catch (error) {\n",
              "            console.error('Error during call to suggestCharts:', error);\n",
              "          }\n",
              "          quickchartButtonEl.classList.remove('colab-df-spinner');\n",
              "          quickchartButtonEl.classList.add('colab-df-quickchart-complete');\n",
              "        }\n",
              "        (() => {\n",
              "          let quickchartButtonEl =\n",
              "            document.querySelector('#df-4594db42-6227-482e-a0c7-77284e5a8d67 button');\n",
              "          quickchartButtonEl.style.display =\n",
              "            google.colab.kernel.accessAllowed ? 'block' : 'none';\n",
              "        })();\n",
              "      </script>\n",
              "    </div>\n",
              "\n",
              "  <div id=\"id_c9449a3a-2345-409d-862d-7a4644fcc7ad\">\n",
              "    <style>\n",
              "      .colab-df-generate {\n",
              "        background-color: #E8F0FE;\n",
              "        border: none;\n",
              "        border-radius: 50%;\n",
              "        cursor: pointer;\n",
              "        display: none;\n",
              "        fill: #1967D2;\n",
              "        height: 32px;\n",
              "        padding: 0 0 0 0;\n",
              "        width: 32px;\n",
              "      }\n",
              "\n",
              "      .colab-df-generate:hover {\n",
              "        background-color: #E2EBFA;\n",
              "        box-shadow: 0px 1px 2px rgba(60, 64, 67, 0.3), 0px 1px 3px 1px rgba(60, 64, 67, 0.15);\n",
              "        fill: #174EA6;\n",
              "      }\n",
              "\n",
              "      [theme=dark] .colab-df-generate {\n",
              "        background-color: #3B4455;\n",
              "        fill: #D2E3FC;\n",
              "      }\n",
              "\n",
              "      [theme=dark] .colab-df-generate:hover {\n",
              "        background-color: #434B5C;\n",
              "        box-shadow: 0px 1px 3px 1px rgba(0, 0, 0, 0.15);\n",
              "        filter: drop-shadow(0px 1px 2px rgba(0, 0, 0, 0.3));\n",
              "        fill: #FFFFFF;\n",
              "      }\n",
              "    </style>\n",
              "    <button class=\"colab-df-generate\" onclick=\"generateWithVariable('df')\"\n",
              "            title=\"Generate code using this dataframe.\"\n",
              "            style=\"display:none;\">\n",
              "\n",
              "  <svg xmlns=\"http://www.w3.org/2000/svg\" height=\"24px\"viewBox=\"0 0 24 24\"\n",
              "       width=\"24px\">\n",
              "    <path d=\"M7,19H8.4L18.45,9,17,7.55,7,17.6ZM5,21V16.75L18.45,3.32a2,2,0,0,1,2.83,0l1.4,1.43a1.91,1.91,0,0,1,.58,1.4,1.91,1.91,0,0,1-.58,1.4L9.25,21ZM18.45,9,17,7.55Zm-12,3A5.31,5.31,0,0,0,4.9,8.1,5.31,5.31,0,0,0,1,6.5,5.31,5.31,0,0,0,4.9,4.9,5.31,5.31,0,0,0,6.5,1,5.31,5.31,0,0,0,8.1,4.9,5.31,5.31,0,0,0,12,6.5,5.46,5.46,0,0,0,6.5,12Z\"/>\n",
              "  </svg>\n",
              "    </button>\n",
              "    <script>\n",
              "      (() => {\n",
              "      const buttonEl =\n",
              "        document.querySelector('#id_c9449a3a-2345-409d-862d-7a4644fcc7ad button.colab-df-generate');\n",
              "      buttonEl.style.display =\n",
              "        google.colab.kernel.accessAllowed ? 'block' : 'none';\n",
              "\n",
              "      buttonEl.onclick = () => {\n",
              "        google.colab.notebook.generateWithVariable('df');\n",
              "      }\n",
              "      })();\n",
              "    </script>\n",
              "  </div>\n",
              "\n",
              "    </div>\n",
              "  </div>\n"
            ],
            "application/vnd.google.colaboratory.intrinsic+json": {
              "type": "dataframe",
              "variable_name": "df",
              "summary": "{\n  \"name\": \"df\",\n  \"rows\": 5,\n  \"fields\": [\n    {\n      \"column\": \"Nome\",\n      \"properties\": {\n        \"dtype\": \"string\",\n        \"num_unique_values\": 5,\n        \"samples\": [\n          \"Jo\\u00e3o\",\n          \"Paula\",\n          \"Maria\"\n        ],\n        \"semantic_type\": \"\",\n        \"description\": \"\"\n      }\n    },\n    {\n      \"column\": \"Idade\",\n      \"properties\": {\n        \"dtype\": \"number\",\n        \"std\": 8,\n        \"min\": 23,\n        \"max\": 45,\n        \"num_unique_values\": 5,\n        \"samples\": [\n          34,\n          27,\n          45\n        ],\n        \"semantic_type\": \"\",\n        \"description\": \"\"\n      }\n    },\n    {\n      \"column\": \"Cidade\",\n      \"properties\": {\n        \"dtype\": \"string\",\n        \"num_unique_values\": 4,\n        \"samples\": [\n          \"RJ\",\n          \"RS\",\n          \"SP\"\n        ],\n        \"semantic_type\": \"\",\n        \"description\": \"\"\n      }\n    },\n    {\n      \"column\": \"Glicose\",\n      \"properties\": {\n        \"dtype\": \"number\",\n        \"std\": 46,\n        \"min\": 85,\n        \"max\": 200,\n        \"num_unique_values\": 5,\n        \"samples\": [\n          140,\n          105,\n          95\n        ],\n        \"semantic_type\": \"\",\n        \"description\": \"\"\n      }\n    }\n  ]\n}"
            }
          },
          "metadata": {},
          "execution_count": 37
        }
      ]
    },
    {
      "cell_type": "markdown",
      "source": [
        "Com o Dataframe criado, podemos realizar diferentes atividades de seleção e manipulação dos dados nele contidos."
      ],
      "metadata": {
        "id": "T4IOkOvP9Get"
      }
    },
    {
      "cell_type": "code",
      "source": [
        "df.info() # imprime uma série de informações sobre a estrutura do Dataframe."
      ],
      "metadata": {
        "id": "w0XwaU3L-r6B"
      },
      "execution_count": null,
      "outputs": []
    },
    {
      "cell_type": "code",
      "source": [
        "nomes = df['Idade'] # seleciona a Series contendo apenas os dados da coluna \"Idade\"\n",
        "nomes"
      ],
      "metadata": {
        "id": "J3AWmhab9Hbt"
      },
      "execution_count": null,
      "outputs": []
    },
    {
      "cell_type": "code",
      "source": [
        "registros = df[ df['Glicose'] > 100 ] # Selecionar registros aplicando um filtro nos valores de uma coluna\n",
        "registros # Jupyter Notebook irá formatar o Dataframe como uma planilha."
      ],
      "metadata": {
        "id": "HSnh0_g29c4z"
      },
      "execution_count": null,
      "outputs": []
    },
    {
      "cell_type": "code",
      "source": [
        "filtro = (df['Glicose'] > 100) & (df['Idade'] < 35) # Vamos definir um filtro com várias condições\n",
        "registros = df[ filtro ] # Vamos selecionar os registros utilizando o filtro\n",
        "registros # Jupyter Notebook irá formatar o Dataframe como uma planilha."
      ],
      "metadata": {
        "id": "XAm43Co79ies"
      },
      "execution_count": null,
      "outputs": []
    },
    {
      "cell_type": "code",
      "source": [
        "registro = df.iloc[2] # seleciona um registro em particular (uma das linhas) do Dataframe\n",
        "registro"
      ],
      "metadata": {
        "id": "lhVRlzlU9wBO"
      },
      "execution_count": null,
      "outputs": []
    },
    {
      "cell_type": "code",
      "source": [
        "registro = registros.loc[4] # seleciona um registro em particular (uma das linhas) do Dataframe usando o label\n",
        "registro"
      ],
      "metadata": {
        "id": "wHBqePqM92hj"
      },
      "execution_count": null,
      "outputs": []
    },
    {
      "cell_type": "code",
      "source": [
        "sample = df.sample() # Seleciona um registro aleatório (uma amostra ou \"sample\") do Dataframe.\n",
        "sample # Jupyter Notebook irá formatar a amostra como uma planilha."
      ],
      "metadata": {
        "id": "xs7QEBjx-kB6"
      },
      "execution_count": null,
      "outputs": []
    },
    {
      "cell_type": "code",
      "source": [
        "sorted_dataframe = df.sort_values('Idade') # Ordena os valores do Dataframe pela coluna passada como parâmetro.\n",
        "sorted_dataframe # Jupyter Notebook irá formatar a amostra como uma planilha."
      ],
      "metadata": {
        "id": "MTrerURd-1Rk"
      },
      "execution_count": null,
      "outputs": []
    },
    {
      "cell_type": "markdown",
      "source": [
        "Para os próximos exemplos, precisaremos de um conjunto de dados com maior tamanho. Temos alguns conjuntos de dados de exemplo disponíveis na biblioteca Seaborn (biblioteca de visualização baseada na matplotlib), a qual também é ampalmente utilizada para tarefas de aprendizado de máquina e iremos estudar ao longo da disciplina. A célula abaixo irá carregar a biblioteca Seaborn e, em seguida, carregar um conjunto de dados com dados de gorjetas em restaurantes dos Estados Unidos."
      ],
      "metadata": {
        "id": "Bg6GwRnS_L7D"
      }
    },
    {
      "cell_type": "code",
      "source": [
        "import seaborn as sns\n",
        "\n",
        "df = sns.load_dataset('tips')"
      ],
      "metadata": {
        "id": "fpKHnpjc_HcS"
      },
      "execution_count": 90,
      "outputs": []
    },
    {
      "cell_type": "markdown",
      "source": [
        "As próximas células irão apresentar mais algumas funções básicas dos Dataframes."
      ],
      "metadata": {
        "id": "9RsxY-1j_uCn"
      }
    },
    {
      "cell_type": "code",
      "source": [
        "df.head(10) # Imprime os primeiros registros contidos no Dataframe."
      ],
      "metadata": {
        "collapsed": true,
        "id": "1EfjMhRd_ram"
      },
      "execution_count": null,
      "outputs": []
    },
    {
      "cell_type": "code",
      "source": [
        "df.tail(10) # Imprime os últimos registros contidos no Dataframe."
      ],
      "metadata": {
        "id": "TXX_CQKkAOou"
      },
      "execution_count": null,
      "outputs": []
    },
    {
      "cell_type": "code",
      "source": [
        "df.describe() # Apresenta uma análise das tendências centrais dos atributos numéricos contidos no Dataframe."
      ],
      "metadata": {
        "id": "9e5HfoMnASbb"
      },
      "execution_count": null,
      "outputs": []
    },
    {
      "cell_type": "markdown",
      "source": [
        "Também podemos realizar a seleção de subconjuntos de dados de um Dataframe através de operadores de indexação. As células abaixo apresentam exemplos onde selecionamos um subconjunto de registros com todas as colunas e, após, a seleção de um subconjunto de registros de uma coluna específica."
      ],
      "metadata": {
        "id": "zaKTFiEPAhZE"
      }
    },
    {
      "cell_type": "code",
      "source": [
        "df.loc[10:19]"
      ],
      "metadata": {
        "id": "kWalBweqAfiC"
      },
      "execution_count": null,
      "outputs": []
    },
    {
      "cell_type": "code",
      "source": [
        "df.loc[10:19, 'tip']"
      ],
      "metadata": {
        "id": "arsE677fAqQG"
      },
      "execution_count": null,
      "outputs": []
    }
  ]
}