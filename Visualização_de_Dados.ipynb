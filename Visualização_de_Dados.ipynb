{
  "nbformat": 4,
  "nbformat_minor": 0,
  "metadata": {
    "colab": {
      "provenance": [],
      "toc_visible": true,
      "authorship_tag": "ABX9TyPQ0YkzB4BFtw1Pyb+Ef3Ua",
      "include_colab_link": true
    },
    "kernelspec": {
      "name": "python3",
      "display_name": "Python 3"
    },
    "language_info": {
      "name": "python"
    }
  },
  "cells": [
    {
      "cell_type": "markdown",
      "metadata": {
        "id": "view-in-github",
        "colab_type": "text"
      },
      "source": [
        "<a href=\"https://colab.research.google.com/github/irajamuller/data_science/blob/main/Visualiza%C3%A7%C3%A3o_de_Dados.ipynb\" target=\"_parent\"><img src=\"https://colab.research.google.com/assets/colab-badge.svg\" alt=\"Open In Colab\"/></a>"
      ]
    },
    {
      "cell_type": "markdown",
      "source": [
        "# **1.Matplotlib**\n",
        "---"
      ],
      "metadata": {
        "id": "5iYvuQGDytgW"
      }
    },
    {
      "cell_type": "markdown",
      "source": [
        "## **1.1-Gráfico de Barra**\n",
        "---\n",
        "<p align=\"justify\">\n",
        "Este notebook apresenta exemplos de como criar gráficos em barra com o matplotlib. Gráficos de barras são ferramentas essenciais para representar e comparar categorias de dados de forma visual, utilizando barras de tamanhos proporcionais aos valores que representam. No contexto de aprendizado de máquina, um dos principais usos de gráficos de barras é a análise de dados categóricos, incluindo comparação e análise da distribuição dos dados. Outro uso bastante comum é a geração de histogramas para a análise da frequência de valores de um determinado parâmetro.\n",
        "</p>\n",
        "<p align=\"justify\">\n",
        "Neste notebook iremos trabalhar com os dados de exemplo disponíveis no dataset <strong>tips</strong> que pode ser facilmente acessado através da biblioteca Seaborn. Primeiramente iremos carregar as bibliotecas necessárias para trabalhar com o conjunto de dados.\n",
        "</p>"
      ],
      "metadata": {
        "id": "3YSjVf-dlsl5"
      }
    },
    {
      "cell_type": "code",
      "source": [
        "%matplotlib inline\n",
        "import seaborn as sns # Permite o carregamento do dataset de exemplo\n",
        "import pandas as pd # Dataframe para manipulação do dataset\n",
        "import numpy as np # Faremos uso de algumas funções para manipular o dataset\n",
        "import matplotlib.pyplot as plt # Biblioteca para criação dos gráficos"
      ],
      "metadata": {
        "id": "GKpoNrsfybzq"
      },
      "execution_count": 4,
      "outputs": []
    },
    {
      "cell_type": "markdown",
      "source": [
        "<p align=\"justify\">\n",
        "Neste exemplo iremos trabalhar com algumas manipulações de dados simples para analisar a média de gorjetas observada em cada dia da semana presente no conjunto de dados. As células abaixo contêm o código que carrega do conjunto de dados e realiza as manipulações para cálculo das tendências centrais por dias da semana.\n",
        "</p>"
      ],
      "metadata": {
        "id": "FEWatg7gymjd"
      }
    },
    {
      "cell_type": "code",
      "source": [
        "# Carregar o conjunto de dados\n",
        "tips = sns.load_dataset(\"tips\")\n",
        "tips.head()"
      ],
      "metadata": {
        "id": "ezn1ahu50w-K"
      },
      "execution_count": null,
      "outputs": []
    },
    {
      "cell_type": "markdown",
      "source": [
        "<p align=\"justify\">\n",
        "Realiza um processo de agrupamento do conjunto de dados de acordo com os valores do atributo <strong>day</strong>.\n",
        "O agrupamento realiza o cálculo de valores comuns de tendência central, que são mapeados para atributos de um novo dataframe.\n",
        "</p>"
      ],
      "metadata": {
        "id": "ukdr98US9yvQ"
      }
    },
    {
      "cell_type": "code",
      "source": [
        "mean_tips = tips.groupby(\"day\", observed=True)[\"tip\"].agg(\n",
        "    mean=\"mean\",\n",
        "    std=\"std\",\n",
        "    count=\"count\"\n",
        ")\n",
        "mean_tips"
      ],
      "metadata": {
        "id": "jPHRRrDD892E"
      },
      "execution_count": null,
      "outputs": []
    },
    {
      "cell_type": "markdown",
      "source": [
        "<p align=\"justify\">\n",
        "Cria um gráfico de barras utilizando o Matplotlib. Os primeiros dois parâmetros contém as séries\n",
        "que possuem, respectivamente, os valores dos eixos horizontal e vertical. Os demais parâmetros\n",
        "ajustam a estética do gráfico como as cores de preenchimento e de fundo.\n",
        "</p>"
      ],
      "metadata": {
        "id": "PGK6MKtY98D1"
      }
    },
    {
      "cell_type": "code",
      "source": [
        "# Configura o tamanho da figura\n",
        "plt.figure(figsize=(12, 6))\n",
        "\n",
        "plt.bar(mean_tips.index, mean_tips[\"mean\"], color=\"skyblue\", edgecolor=\"black\")\n",
        "#plt.bar(mean_tips.index, mean_tips[\"count\"], color=[\"blue\", 'white', 'black', 'green'], edgecolor=\"black\")\n",
        "\n",
        "# Configura opções gerais de vizualização do gráfico\n",
        "plt.title(\"Gorjeta Média por Dia da Semana\", fontsize=16)\n",
        "plt.xlabel(\"Dia da Semana\", fontsize=12)\n",
        "plt.ylabel(\"Gorjeta Média (USD)\", fontsize=12)\n",
        "plt.grid(axis=\"y\", linestyle=\"--\", alpha=0.6)\n",
        "plt.xticks(fontsize=10)\n",
        "plt.yticks(fontsize=10)\n",
        "#plt.xticks(['Thur', 'Fri', 'Sat', 'Sun'], ['Quinta-feira', 'Sexta-feira', 'Sábado', 'Domingo'])\n",
        "#plt.ylim((1,4))\n",
        "#plt.yticks(np.arange(1, 4, 0.2))\n",
        "plt.show()"
      ],
      "metadata": {
        "id": "bUCNukgnzBsC"
      },
      "execution_count": null,
      "outputs": []
    },
    {
      "cell_type": "markdown",
      "source": [
        "<p align=\"justify\">\n",
        "No exemplo abaixo, iremos gerar o mesmo tipo de gráfico, mas iremos adicionar uma barra de erros que apresenta o erro médio padrão na forma de uma barra de erros.\n",
        "</p>\n",
        "<p align=\"justify\">\n",
        "O erro médio padrão (SEM) $\\frac{\\sigma}{\\sqrt(n)} $ não é calculado pelo processo de agregação, mas podemos adicioná-lo ao novo dataframe\n",
        "utilizando os dados que já foram calculados e estão disponíveis no próprio dataset. O erro padrão da média (SEM) mede a precisão da estimativa da média de um grupo. Ele é útil, por exemplo, para: construir intervalos de confiança da média e adição de barras de erro em gráficos.\n",
        "</p>"
      ],
      "metadata": {
        "id": "G01IBut30Rng"
      }
    },
    {
      "cell_type": "code",
      "source": [
        "mean_tips[\"sem\"] = mean_tips[\"std\"] / np.sqrt(mean_tips[\"count\"])\n",
        "mean_tips"
      ],
      "metadata": {
        "id": "xnAxDiq78sUG"
      },
      "execution_count": null,
      "outputs": []
    },
    {
      "cell_type": "code",
      "source": [
        "# Configura o tamanho da figura\n",
        "plt.figure(figsize=(12, 6))\n",
        "\n",
        "'''\n",
        "Os primeiros dois parâmetros contém as séries que possuem, respectivamente, os\n",
        "valores dos eixos horizontal e vertical. O terceiro parâmetro contém a série com\n",
        "os valores do erro médio padrão.\n",
        "'''\n",
        "plt.bar(mean_tips.index, mean_tips[\"mean\"], yerr=mean_tips[\"sem\"],\n",
        "        color=\"skyblue\", edgecolor=\"black\", capsize=5)\n",
        "\n",
        "# Configura opções gerais de vizualização do gráfico\n",
        "plt.title(\"Gorjeta Média por Dia da Semana (com Intervalo de Confiança)\", fontsize=16)\n",
        "plt.xlabel(\"Dia da Semana\", fontsize=12)\n",
        "plt.ylabel(\"Gorjeta Média (USD)\", fontsize=12)\n",
        "plt.grid(axis=\"y\", linestyle=\"--\", alpha=0.6)\n",
        "plt.xticks(fontsize=10)\n",
        "plt.yticks(fontsize=10)\n",
        "\n",
        "plt.show()"
      ],
      "metadata": {
        "id": "xA1Y3Rae0XAD"
      },
      "execution_count": null,
      "outputs": []
    },
    {
      "cell_type": "markdown",
      "source": [
        "<p align=\"justify\">\n",
        "Além do gráfico de barras simples, o Matplotlib facilita a criação de gráficos de histograma, permitindo analisar a frequência com que determinados valores ocorrem em um dos atributos do conjunto de dados. No exemplo a seguir, iremos criar um histograma que analisa a distribuição de valores de gorjeta no conjunto de dados.\n",
        "</p>\n",
        "<p align=\"justify\">\n",
        "Repare que neste caso estamos utilizando os valores brutos contidos no dataset <strong>tips</strong>, não os valores de tendência central que processamos para gerar os gráficos de barras anteriores.\n",
        "</p>"
      ],
      "metadata": {
        "id": "N9IBtx5h011J"
      }
    },
    {
      "cell_type": "code",
      "source": [
        "# Configura o tamanho da figura\n",
        "plt.figure(figsize=(12, 6))\n",
        "\n",
        "# Cria um histograma utilizando o Matplotlib. O primeiro parâmetro contém a série de dados com os valores\n",
        "# dos quais se deseja analisar a frequência. O parâmetro \"bins\" define o número de divisões que serão utilizadas\n",
        "# para agrupar os valores. Os demais parâmetros ajustam a estética do gráfico.\n",
        "plt.hist(tips[\"tip\"], bins=10, color=\"skyblue\", edgecolor=\"black\")\n",
        "\n",
        "# Configura opções gerais de vizualização do gráfico\n",
        "plt.title(\"Distribuição de Valores das Gorjetas\", fontsize=16)\n",
        "plt.xlabel(\"Valor da Gorjeta (USD)\", fontsize=12)\n",
        "plt.ylabel(\"Frequência\", fontsize=12)\n",
        "plt.grid(axis=\"y\", linestyle=\"--\", alpha=0.6)\n",
        "plt.xticks(fontsize=10)\n",
        "plt.yticks(fontsize=10)\n",
        "# plt.xlim((0,11))\n",
        "# plt.xticks(np.arange(0, 11, 0.5))\n",
        "\n",
        "plt.show()"
      ],
      "metadata": {
        "id": "vYFTe-c804Hl"
      },
      "execution_count": null,
      "outputs": []
    },
    {
      "cell_type": "code",
      "source": [
        "# Exemplo utilizando o seaborn\n",
        "import seaborn as sns\n",
        "# Observe o kde (Kernel Density Estimate - distribuição contínua de uma variável)\n",
        "sns.histplot(tips[\"tip\"], bins=10, color=\"skyblue\", edgecolor=\"black\", kde=True)\n",
        "\n",
        "plt.title(\"Distribuição de Valores das Gorjetas\", fontsize=16)\n",
        "plt.xlabel(\"Valor da Gorjeta (USD)\", fontsize=12)\n",
        "plt.ylabel(\"Frequência\", fontsize=12)\n",
        "plt.grid(axis=\"y\", linestyle=\"--\", alpha=0.6)\n",
        "plt.xticks(fontsize=10)\n",
        "plt.yticks(fontsize=10)\n",
        "plt.show()\n"
      ],
      "metadata": {
        "id": "SHDcJkkFABc9"
      },
      "execution_count": null,
      "outputs": []
    },
    {
      "cell_type": "markdown",
      "source": [
        "## **1.2-Gráfico de Linhas**\n",
        "---\n",
        "<p align=\"justify\">\n",
        "Este notebook apresenta exemplos da criação de gráficos de linha utilizando o matplotlib. Gráficos de linha são úteis para a análise de variáveis onde os dados apresentam uma relação de continuidade, como por exemplo tempo ou distância. Alguns de seus principais usos incluem:\n",
        "</p>\n",
        "\n",
        "- Representar dados contínuos;\n",
        "- Mostrar tendências ao longo do tempo;\n",
        "- Identificar picos, vales e padrões sazonais;\n",
        "- Previsão e análise de tendências futuras.\n",
        "\n",
        "<p align=\"justify\">\n",
        "Neste notebook iremos utilizar um conjunto de dados fictício para criar gráficos de linha. Este conjunto de dados simula um experimento realizado para verificar o tempo de resposta de um servidor Web de acordo com o número de conexões simultâneas. Este dataset encontra-se disponível no arquivo <strong>network_latency.csv</strong>.\n",
        "</p>\n",
        "<p align=\"justify\">\n",
        "Primeiramente iremos carregar as bibliotecas que utilizaremos ao longo da atividade. Iremos utilizar o Pandas para carregar e manipular dados e o Matplotlib para a geração de gráficos.\n",
        "</p>"
      ],
      "metadata": {
        "id": "eD3WrEJivsQi"
      }
    },
    {
      "cell_type": "code",
      "source": [
        "%matplotlib inline\n",
        "import pandas as pd\n",
        "import matplotlib.pyplot as plt"
      ],
      "metadata": {
        "id": "YmBJ-DVFwH20"
      },
      "execution_count": null,
      "outputs": []
    },
    {
      "cell_type": "markdown",
      "source": [
        "<p align=\"justify\">\n",
        "Em seguida iremos carregar o conjunto de dados com os resultados dos experimentos realizados.\n",
        "</p>\n",
        "\n",
        "- O conjunto de dados simula um experimento que avalia a latência de resposta de um servidor HTTP;\n",
        "- O experimento avalia a latência variando o número de conexões simultâneas entre 10 e 100;\n",
        "- Considera-se que cada cenário foi executado múltiplas vezes, e o conjunto de dados apresenta a tendência central observada para a latência do servidor;\n",
        "- A tendência central inclui os valores de média, desvio padrão e margem de erro."
      ],
      "metadata": {
        "id": "sWThfi4wwNXq"
      }
    },
    {
      "cell_type": "code",
      "source": [
        "net_latency = pd.read_csv(\"https://raw.githubusercontent.com/irajamuller/data_science/main/dataset/network_latency.csv\")\n",
        "net_latency"
      ],
      "metadata": {
        "id": "Qsbb4VcUwcm7"
      },
      "execution_count": null,
      "outputs": []
    },
    {
      "cell_type": "markdown",
      "source": [
        "O exemplo abaixo gera um gráfico de linhas simples que relaciona o número de conexões simultâneas (eixo horizontal) com a latência média (eixo vertical)"
      ],
      "metadata": {
        "id": "CR-USa0CwtyY"
      }
    },
    {
      "cell_type": "code",
      "source": [
        "plt.plot(net_latency[\"Clients\"], net_latency[\"Latency Mean (ms)\"])\n",
        "plt.show()"
      ],
      "metadata": {
        "id": "TRZ_fjtCwwoX"
      },
      "execution_count": null,
      "outputs": []
    },
    {
      "cell_type": "markdown",
      "source": [
        "Podemos utilizar os métodos e atributos da classe <strong>pyplot</strong> para personalizar aspectos do gráfico como fontes, eixos, legenda, grade. O exemplo abaixo expande o gráfico acima com uma série de detalhes básicos."
      ],
      "metadata": {
        "id": "lwi1Xhl_w5SU"
      }
    },
    {
      "cell_type": "code",
      "source": [
        "# Define o tamanho da figura em centímetros\n",
        "plt.figure(figsize=(12, 6))\n",
        "# O parâmetro \"marker\" irá adicionar um ponto para marcar cada um dos valores presentes no dataset.\n",
        "# O parâmetro \"label\" define a etiqueta da linha gerada, que será apresentado na legenda do gráfico.\n",
        "plt.plot(net_latency[\"Clients\"], net_latency[\"Latency Mean (ms)\"], marker='o', label=\"Latência Média (ms)\")\n",
        "\n",
        "# Define o título do gráfico e seu tamanho de fonte\n",
        "plt.title(\"Latência do Servidor\", fontsize=16)\n",
        "# Define o nome do eixo horizontal e seu tamanho de fonte\n",
        "plt.xlabel(\"Número de Clientes\", fontsize=12)\n",
        "# Define o nome do eixo vertical e seu tamanho de fonte\n",
        "plt.ylabel(\"Latência Média (ms)\", fontsize=12)\n",
        "# Define os parâmetros da grade para marcação do gráfico\n",
        "plt.grid(True, linestyle=\"--\", alpha=0.6)\n",
        "# Ativa a exibição da legenda\n",
        "plt.legend()\n",
        "# Exibe o gráfico na saída do Jupyter\n",
        "plt.show()"
      ],
      "metadata": {
        "id": "rk_Mh4xNw4HN"
      },
      "execution_count": null,
      "outputs": []
    },
    {
      "cell_type": "markdown",
      "source": [
        "<p align=\"justify\">\n",
        "Além do gráfico de linhas clássico, também podemos criar um gráfico de linha com barras de erro. Este gráfico permite analisar a tendência de uma variável ao longo do tempo e, ao mesmo tempo, verificar a variância observada ao longo das medições. A célula abaixo apresenta um exemplo geração de um gráfico de linhas com barras de erro.\n",
        "</p>"
      ],
      "metadata": {
        "id": "GpofUYTIxIFg"
      }
    },
    {
      "cell_type": "code",
      "source": [
        "plt.figure(figsize=(12, 6))\n",
        "plt.errorbar(\n",
        "    net_latency[\"Clients\"], # Coluna do eixo horizontal\n",
        "    net_latency[\"Latency Mean (ms)\"], # Coluna do eixo vertical\n",
        "    yerr=net_latency[\"Margin of Error (ms)\"], # Coluna com os valores de erro\n",
        "    fmt='-o', # String com o formato para cada ponto presente no conjunto de dados\n",
        "    capsize=5, # Tamanho do traço de mínimo e máximo para a barra de erro\n",
        "    label=\"Latência Média (ms)\" # etiqueta para identificar a linha na legenda\n",
        ")\n",
        "\n",
        "# Configurações do gráfico\n",
        "plt.title(\"Latência do Servidor\", fontsize=16)\n",
        "plt.xlabel(\"Número de Clientes\", fontsize=12)\n",
        "plt.ylabel(\"Latência Média (ms)\", fontsize=12)\n",
        "plt.grid(True, linestyle=\"--\", alpha=0.6)\n",
        "plt.legend()\n",
        "plt.show()"
      ],
      "metadata": {
        "id": "ud1po8WqxJlF"
      },
      "execution_count": null,
      "outputs": []
    },
    {
      "cell_type": "markdown",
      "source": [
        "<p align=\"justify\">\n",
        "O próximo exemplo mostra como podemos criar um gráfico de linhas que compara a tendência de diferentes variáveis. O conjunto de dados será similar ao anterior, mas desta vez ele irá trazer dados de experimentos realizados com diferentes servidores HTTP. Para isso, adicionamos uma coluna a mais no conjunto de dados identificando a qual servidor Web um resultado pertence.\n",
        "</p>\n",
        "<strong>Observação: estes dados são fictícios.</strong>"
      ],
      "metadata": {
        "id": "KMp6hInTxV77"
      }
    },
    {
      "cell_type": "code",
      "source": [
        "http_latency = pd.read_csv(\"https://raw.githubusercontent.com/irajamuller/data_science/main/dataset/http_latency.csv\")\n",
        "http_latency"
      ],
      "metadata": {
        "id": "He1ML1a_xbzY"
      },
      "execution_count": null,
      "outputs": []
    },
    {
      "cell_type": "markdown",
      "source": [
        "<p align=\"justify\">\n",
        "Para gerarmos um gráfico deste dataset precisamos realizar processamentos adicionais para gerarmos linhas individuais para os resultados de cada servidor HTTP. Este processamento utiliza as funções de filtragem e seleção disponíveis no Pandas, as quais iremos estudar mais a fundo mais adiante na disciplina.\n",
        "</p>"
      ],
      "metadata": {
        "id": "9YgOtgPjxqBF"
      }
    },
    {
      "cell_type": "code",
      "source": [
        "# Cria uma lista de símbolos para serem usados como marcadores de pontos nos gráficos a serem criados.\n",
        "# Uma lista dos símbolos suportados está disponível na documentação do Matplotlib.\n",
        "markers = ['o', 's', '^']\n",
        "\n",
        "# Configura o tamanho da figura.\n",
        "plt.figure(figsize=(12, 6))\n",
        "\n",
        "# Processa os dados para criar um gráfico de linhas comparando os resultados de diferentes servidores.\n",
        "# O processamento irá enumerar todos os servidores distintos presentes nos dados. Em seuigda, ele irá\n",
        "# criar um subconjunto de dados para cada servidor e criará um gráfico do tipo errorbar.\n",
        "for i, server in enumerate(http_latency[\"Server\"].unique()):\n",
        "    server_data = http_latency[http_latency[\"Server\"] == server]\n",
        "    plt.errorbar(\n",
        "        server_data[\"Clients\"],\n",
        "        server_data[\"Latency Mean (ms)\"],\n",
        "        yerr=server_data[\"Margin of Error (ms)\"],\n",
        "        label=f\"{server}\",\n",
        "        marker=markers[i % len(markers)],\n",
        "        capsize=5\n",
        "    )\n",
        "\n",
        "# Configurações do gráfico\n",
        "plt.title(\"Comparação de Latência entre Servidores HTTP\", fontsize=16)\n",
        "plt.xlabel(\"Número de Clientes\", fontsize=12)\n",
        "plt.ylabel(\"Latência Média (ms)\", fontsize=12)\n",
        "plt.grid(True, linestyle=\"--\", alpha=0.6)\n",
        "plt.legend(fontsize=12)\n",
        "plt.show()"
      ],
      "metadata": {
        "id": "69VakHWyxsG9"
      },
      "execution_count": null,
      "outputs": []
    },
    {
      "cell_type": "markdown",
      "source": [
        "## **1.3-Gráfico de Linhas com Seaborn**\n",
        "---\n",
        "<p align=\"justify\">\n",
        "Neste notebook iremos criar um gráfico de linhas utilizando a biblioteca Seaborn. Iremos utilizar o conjunto de dados contido no arquivo <strong>http_latency.csv</strong>, o qual apresenta os resultados de uma série de experimentos de latência realizados com diferentes servidores HTTP. Este é o mesmo conjunto de dados que utilizamos anteriormente para gerar gráficos com o Matplotlib. <strong>Observação:</strong> Este conjunto de dados apresenta valores fictíceos.\n",
        "</p>\n",
        "\n",
        "<p align=\"justify\">\n",
        "Neste exemplo iremos utilizar a biblioteca Pandas para gerenciar o conjunto de dados e a Seaborn para gerar o gráfico de linhas. Também iremos utilizar a biblioteca Matplotlib para realizar ajustes finos no gráfico. Vale lembrar que esta combinação é possível porque a Seaborn utliza a Matplotlib como motor para geração de gráficos.\n",
        "</p>"
      ],
      "metadata": {
        "id": "jn9FvhUWyAZa"
      }
    },
    {
      "cell_type": "code",
      "source": [
        "%matplotlib inline\n",
        "import pandas as pd\n",
        "import seaborn as sns\n",
        "import matplotlib.pyplot as plt"
      ],
      "metadata": {
        "id": "bRDPmz47ySUA"
      },
      "execution_count": null,
      "outputs": []
    },
    {
      "cell_type": "code",
      "source": [
        "# Em seguida iremos carregar o conjunto de dados disponível no arquivo http_latency.csv.\n",
        "net_latency = pd.read_csv(\"https://raw.githubusercontent.com/irajamuller/data_science/main/dataset/http_latency.csv\")\n",
        "net_latency"
      ],
      "metadata": {
        "id": "Uwv9xIfdyVOx"
      },
      "execution_count": null,
      "outputs": []
    },
    {
      "cell_type": "code",
      "source": [
        "# Utilizamos a classe \"pyplot\" do Matplotlib para ajustar o tamanho da figura do Seaborn\n",
        "plt.figure(figsize=(12, 6))\n",
        "\n",
        "# Gera um gráfico de linhas utilizando o Seaborn. O parâmetro \"data\" define o dataframe que contém\n",
        "# os dados utilizados para geração do gráfico. O parâmetros \"x\" e \"y\" especificam as colunas\n",
        "# do dataframe que contém os valores para os eixos horizontal e vertical, respectivamente.\n",
        "# os parâmetros \"hue\" e \"style\" são utilizados para definir a coluna do dataframe que\n",
        "# categorizará o gráfico, dividindo os valores entre diferentes linhas. Estes parâmetros também\n",
        "# definem que cada linha terá estilos e cores distintas, divididas de acordo com as categorias.\n",
        "# Por fim, o parâmetro \"markers\" especifica que cada registro no dataframe terá um marcador na linha.\n",
        "sns.lineplot(\n",
        "    data=net_latency,\n",
        "    x=\"Clients\",\n",
        "    y=\"Latency Mean (ms)\",\n",
        "    hue=\"Server\",\n",
        "    style=\"Server\",\n",
        "    markers=True,\n",
        ")\n",
        "\n",
        "# Podemos utilizar a classe \"pyplot\" do Matplotlib para configurar aspectos gerais do gráfico.\n",
        "plt.title(\"Comparação de Latência entre Servidores HTTP\", fontsize=16)\n",
        "plt.xlabel(\"Número de Clientes\", fontsize=12)\n",
        "plt.ylabel(\"Latência Média (ms)\", fontsize=12)\n",
        "plt.grid(True, linestyle=\"--\", alpha=0.6)\n",
        "plt.legend(title=\"Servidor\", fontsize=12)\n",
        "plt.tight_layout()\n",
        "plt.show()"
      ],
      "metadata": {
        "id": "lPv8Z632yha8"
      },
      "execution_count": null,
      "outputs": []
    },
    {
      "cell_type": "markdown",
      "source": [
        "## **1.4-Gráfico de Caixa**\n",
        "---\n",
        "<p align=\"justify\">\n",
        "Gráficos de caixa (também conhecidos como <strong>box plots</strong>) são uma representa gráfica que resume a distribuição de um conjunto de dados em termos estatísticos. Ele é composto por elementos que permitem identificar rapidamente:\n",
        "</p>\n",
        "\n",
        "- Mediana\n",
        "- Quartis e intervalo entre quartis\n",
        "- Intervalos de distribuição de valores\n",
        "- Outliers\n",
        "\n",
        "<p align=\"justify\">\n",
        "Neste notebook iremos utilizar o conjunto de dados <strong>tips</strong> disponível através do Seaborn para criar um gráfico de caixas para análisar os valores de gorjetas de acordo com o dia da semana. Para isso, precisaremos processar o conjunto de dados para separá-lo em estatísticas diárias.\n",
        "</p>\n",
        "\n",
        "<p align=\"justify\">\n",
        "Primeiramente iremos carregar as bibliotecas que utilizaremos ao longo da atividade. Iremos utilizar o Pandas para carregar e manipular dados e o Matplotlib para a geração de gráficos.\n",
        "</p>"
      ],
      "metadata": {
        "id": "bRluSimMy_zh"
      }
    },
    {
      "cell_type": "code",
      "source": [
        "import seaborn as sns\n",
        "import matplotlib.pyplot as plt"
      ],
      "metadata": {
        "id": "8_6cumg3zU01"
      },
      "execution_count": null,
      "outputs": []
    },
    {
      "cell_type": "markdown",
      "source": [
        "Para gerar os gráficos de caixa com as tendências por dia da semana, precisaremos agrupar os dados de acordo com este atributo. Para isso, utilizaremos os métodos do Pandas para realizar essa divisão."
      ],
      "metadata": {
        "id": "59cd2BvGzVzV"
      }
    },
    {
      "cell_type": "code",
      "source": [
        "# Carregar o dataset \"tips\"\n",
        "tips = sns.load_dataset(\"tips\")\n",
        "# Cria uma série contendo cada uma das categorias disponíveis no atributo \"day\"\n",
        "days = tips[\"day\"].unique()\n",
        "# Cria uma lista de séries, onde cada série contém os valores de gorjeta de um dia da semana específico.\n",
        "grouped_data = [tips[tips[\"day\"] == day][\"tip\"] for day in days]\n"
      ],
      "metadata": {
        "id": "zMJq0sk9zbCo"
      },
      "execution_count": null,
      "outputs": []
    },
    {
      "cell_type": "markdown",
      "source": [
        "Com os dados preparados, podemos criar o gráfico de caixas. O gráfico conterá uma caixa para cada um dos dias da semana."
      ],
      "metadata": {
        "id": "pXwEWR5jziaQ"
      }
    },
    {
      "cell_type": "code",
      "source": [
        "# Configura o tamanho do gráfico\n",
        "plt.figure(figsize=(12, 6))\n",
        "\n",
        "# Cria um gráfico de caixas utilizando o matplotlib. O primeiro parâmetro contém a a lista\n",
        "# com as séries de dados para cada uma das categorias. O parâmetro \"tick_labels\" contém uma lista\n",
        "# com os nomes de cada uma das categorias na mesma ordem e que elas aparecem na lista no primeiro\n",
        "# parâmetro. Os demais parâmetros definem diversas questões estéticas sobre como as caixas\n",
        "# serão apresentadas no gráfico.\n",
        "plt.boxplot(grouped_data, tick_labels=days, patch_artist=True, notch=True,\n",
        "            boxprops=dict(facecolor=\"skyblue\", color=\"black\"),\n",
        "            medianprops=dict(color=\"red\", linewidth=2),\n",
        "            whiskerprops=dict(color=\"black\"),\n",
        "            capprops=dict(color=\"black\"))\n",
        "\n",
        "# Configura parâmetros gerais do gráfico.\n",
        "plt.title(\"Gorjetas por Dia da Semana\", fontsize=16)\n",
        "plt.xlabel(\"Dia da Semana\", fontsize=12)\n",
        "plt.ylabel(\"Valor da Gorjeta (USD)\", fontsize=12)\n",
        "plt.grid(axis=\"y\", linestyle=\"--\", alpha=0.6)\n",
        "plt.show()"
      ],
      "metadata": {
        "id": "kw-hp0wWzmZG"
      },
      "execution_count": null,
      "outputs": []
    },
    {
      "cell_type": "markdown",
      "source": [
        "## **1.5-Gráfico de Dispersão**\n",
        "---\n",
        "<p align=\"justify\">\n",
        "Gráficos de dispersão (também conhecidos como <strong>scatter plot</strong>) é uma representação visual que utiliza poontos em um plano para exibir os valores de duas variáveis. Ele permite uma análise visual da relação entre duas variáveis e a identificação de elementos como:\n",
        "</p>\n",
        "\n",
        "- Relações entre duas variáveis;\n",
        "- Padrões ou tendências;\n",
        "- Outliers.\n",
        "\n",
        "<p align=\"justify\">\n",
        "Neste notebook iremos criar um gráfico de dispersão baseado no conjunto de dados <strong>tips</strong> ue pode ser facilmente acessado através da biblioteca Seaborn. Primeiramente iremos carregar as bibliotecas necessárias para trabalhar com o conjunto de dados. Também iremos carregar o conjunto de dados utilizando a biblioteca Seaborn.\n",
        "</p>"
      ],
      "metadata": {
        "id": "oTwNedRQ0oz6"
      }
    },
    {
      "cell_type": "code",
      "source": [
        "%matplotlib inline\n",
        "import seaborn as sns\n",
        "import matplotlib.pyplot as plt\n",
        "\n",
        "tips = sns.load_dataset(\"tips\")"
      ],
      "metadata": {
        "id": "5k5EOC5R01Uu"
      },
      "execution_count": 41,
      "outputs": []
    },
    {
      "cell_type": "markdown",
      "source": [
        "Nosso objetivo será comparar os valores de gorjeta com o valor total da contas de cada um dos registros do conjuntos de dados. Ambos valores já estão disponíveis no conjunto de dados."
      ],
      "metadata": {
        "id": "E7r0GaJ003Yh"
      }
    },
    {
      "cell_type": "code",
      "source": [
        "# Configura o tamanho da figura\n",
        "plt.figure(figsize=(10, 10))\n",
        "\n",
        "# Cria um gráfico de dispersão utilizando o Matplotlib.\n",
        "# O primeiro e segundo parâmetros especificam, respectivamente, as séries contendo\n",
        "# os valores para os eixos horizontal e vertical. Os demais parâmetros definem\n",
        "# a estética do gráfico gerado.\n",
        "plt.scatter(tips[\"total_bill\"], tips[\"tip\"], color=\"skyblue\", alpha=0.7, edgecolor=\"black\")\n",
        "\n",
        "# Configura parâmetros gerais do gráfico\n",
        "plt.title(\"Gorjetas em Função do Valor Total da Conta\", fontsize=16)\n",
        "plt.xlabel(\"Valor Total da Conta (USD)\", fontsize=12)\n",
        "plt.ylabel(\"Gorjeta (USD)\", fontsize=12)\n",
        "plt.grid(True, linestyle=\"--\", alpha=0.6)\n",
        "plt.xticks(fontsize=10)\n",
        "plt.yticks(fontsize=10)\n",
        "plt.show()"
      ],
      "metadata": {
        "id": "CwF0gE6U04Lz"
      },
      "execution_count": null,
      "outputs": []
    },
    {
      "cell_type": "markdown",
      "source": [
        "## **1.6-Gráfico de Dispersão com Seaborn**\n",
        "---\n",
        "<p align=\"justify\">\n",
        "Neste notebook iremos repetir o exemplo do uso do gráfico de dispersão para relacionar os dados contidos no conjunto <strong>tips</strong>. Porém, desta vez, iremos utilizar o Seaborn como biblioteca para geração do gráfico.\n",
        "</p>\n",
        "<p align=\"justify\">\n",
        "Neste exemplo iremos carregar o conjunto de dados de exemplo através da própria biblioteca Seaborn e utilizá-la para a geração do gráfico. Também iremos utilizar a biblioteca Matplotlib para realizar ajustes finos na imagem.\n",
        "</p>"
      ],
      "metadata": {
        "id": "dtrWSALu1ArF"
      }
    },
    {
      "cell_type": "code",
      "source": [
        "%matplotlib inline\n",
        "import pandas as pd\n",
        "import seaborn as sns\n",
        "import matplotlib.pyplot as plt\n",
        "\n",
        "# Carregar o conjunto de dados de exemplo \"tips\" através da biblioteca Seaborn.\n",
        "tips = sns.load_dataset(\"tips\")"
      ],
      "metadata": {
        "id": "yD_IaGsg1dT2"
      },
      "execution_count": 43,
      "outputs": []
    },
    {
      "cell_type": "markdown",
      "source": [
        "Com o dataset carregado, podemos utilizar os métodos da Seaborn e Matplotlib para gerar um gráfico de dispersão."
      ],
      "metadata": {
        "id": "Yy94jUJ21fY1"
      }
    },
    {
      "cell_type": "code",
      "source": [
        "# Utilizamos a classe \"pyplot\" do Matplotlib para ajustar o tamanho da figura do Seaborn\n",
        "plt.figure(figsize=(10, 10))\n",
        "\n",
        "# Cria um gráfico de dispersão utilizando a Seaborn. O parâmetro \"data\" especifica o dataframe que\n",
        "# contém os dados utilizados para geração do gráfico. Os parâmetros \"x\" e \"y\" especificam as colunas\n",
        "# do dataframe que contém os valores utilizados nos eixos horizontal e vertical, respectivamente.\n",
        "sns.scatterplot(\n",
        "    data=tips,\n",
        "    x=\"total_bill\",\n",
        "    y=\"tip\",\n",
        ")\n",
        "\n",
        "# Podemos utilizar a classe \"pyplot\" do Matplotlib para configurar aspectos gerais do gráfico.\n",
        "plt.title(\"Total da Conta vs. Gorjeta\", fontsize=14)\n",
        "plt.xlabel(\"Total da Conta ($)\", fontsize=12)\n",
        "plt.ylabel(\"Gorjeta ($)\", fontsize=12)\n",
        "plt.grid(True, linestyle=\"--\", alpha=0.6)\n",
        "plt.tight_layout()\n",
        "plt.show()"
      ],
      "metadata": {
        "id": "q8HglDtx1hxn"
      },
      "execution_count": null,
      "outputs": []
    },
    {
      "cell_type": "markdown",
      "source": [
        "O Seaborn também permite facilmente utilizar os atributos do conjunto de dados para categorizar os valores apresentados na dispersão. No exemplo abaixo iremos utilizar o atributo `time` para realizar a categorização."
      ],
      "metadata": {
        "id": "0okvHTeu1mPA"
      }
    },
    {
      "cell_type": "code",
      "source": [
        "# Utilizamos a classe \"pyplot\" do Matplotlib para ajustar o tamanho da figura do Seaborn\n",
        "plt.figure(figsize=(10, 10))\n",
        "\n",
        "# Cria um gráfico de dispersão utilizando a Seaborn. Comparado com o exemplo acima, temos a adição\n",
        "# do parâmetro \"hue\", que define a coluna do dataframe que será utilizada para categorizar os pontos\n",
        "# com cores diferentes.\n",
        "sns.scatterplot(\n",
        "    data=tips,\n",
        "    x=\"total_bill\",\n",
        "    y=\"tip\",\n",
        "    hue=\"time\"\n",
        ")\n",
        "\n",
        "# Podemos utilizar a classe \"pyplot\" do Matplotlib para configurar aspectos gerais do gráfico.\n",
        "plt.title(\"Scatterplot de Total da Conta vs. Gorjeta\", fontsize=14)\n",
        "plt.xlabel(\"Total da Conta ($)\", fontsize=12)\n",
        "plt.ylabel(\"Gorjeta ($)\", fontsize=12)\n",
        "plt.legend(title=\"Legenda\", bbox_to_anchor=(1.05, 1), loc='upper left')\n",
        "plt.grid(True, linestyle=\"--\", alpha=0.6)\n",
        "plt.tight_layout()\n",
        "plt.show()"
      ],
      "metadata": {
        "id": "i7pM3M811nBj"
      },
      "execution_count": null,
      "outputs": []
    },
    {
      "cell_type": "markdown",
      "source": [
        "## **1.7-Múltiplos Gráficos de Dispersão**\n",
        "---\n",
        "<p align=\"justify\">\n",
        "Este notebook apresenta um exemplo do Matplotlib com múltiplos gráficos de dispersão apresentados em um formato de grade. Este exemplo utiliza novamente o conjunto de dados <strong>tips</strong> disponível através da biblioteca Seaborn.\n",
        "</p>\n",
        "<p align=\"justify\">\n",
        "Utilizaremos a Matplotlib como biblioteca para plotagem do gráfico e o Pandas para manipulação do conjunto de dados.\n",
        "</p>"
      ],
      "metadata": {
        "id": "2NUxkoLX14hc"
      }
    },
    {
      "cell_type": "code",
      "source": [
        "%matplotlib inline\n",
        "import pandas as pd\n",
        "import seaborn as sns\n",
        "import matplotlib.pyplot as plt"
      ],
      "metadata": {
        "id": "nF4W-KYN2GFb"
      },
      "execution_count": null,
      "outputs": []
    },
    {
      "cell_type": "markdown",
      "source": [
        "De forma geral, o processo para gerar o gráfico segue as seguintes etapas:\n",
        "\n",
        "- Carregar o conjunto de dados <strong>tips</strong>;\n",
        "- Criar uma lista das categorias disponíveis no atributo <strong>day</strong>;\n",
        "- Criar uma instância da classe subplots para a criação de um gráfico com múltiplos <strong>axes</strong>;\n",
        "- Iterar pela lista de categorias e criar um gráfico de dispersão para cada dia da semana."
      ],
      "metadata": {
        "id": "sjgES2bb2H5l"
      }
    },
    {
      "cell_type": "code",
      "source": [
        "# Carregar o conjunto de dados \"tips\"\n",
        "tips = sns.load_dataset(\"tips\")\n",
        "# Criar uma lista com as categorias presentes no atributo \"day\"\n",
        "days = tips[\"day\"].unique()\n",
        "print(days)"
      ],
      "metadata": {
        "id": "NZoqkHYy2S2X"
      },
      "execution_count": null,
      "outputs": []
    },
    {
      "cell_type": "markdown",
      "source": [
        "A classe <strong>subplots</strong> permite a criação de um gráfico composto por múltiplos subgráficos que podem ser gerenciados de forma individual. Cada subgráfico pode ser acessado e manipulado individualmente através de uma lista de `axes` indexada numericamente. No código abaixo, iremos iterar pela lista de <strong>axes</strong> e criar um gráfico em cada região do <strong>subplot</strong>."
      ],
      "metadata": {
        "id": "_SC31DSI2VeS"
      }
    },
    {
      "cell_type": "code",
      "source": [
        "# Cria um objeto de subplot com uma grade 2x2 para quatro gráficos. Também define o tamanho do gráfico.\n",
        "fig, axes = plt.subplots(2, 2, figsize=(12, 10), sharex=True, sharey=True)\n",
        "# O método abaixo transforma a grade de axes em uma lista de uma dimensão para facilitar a iteração.\n",
        "axes = axes.flatten()\n",
        "\n",
        "# A iteração abaixo passa por cada elemento da lista de categorias e realiza a criação de um gráfico\n",
        "# de dispersão para os dados de gorjeta de um dia da semana específico. Cada gráfico será posicionado\n",
        "# em um dos elementos da grade de subplots criada acima.\n",
        "for i, day in enumerate(days):\n",
        "    # Seleciona uma das posições da grade de subplots para inserir o gráfico da iteração atual\n",
        "    ax = axes[i]\n",
        "    # Cria um dataframe filtrando os dados de gorjeta pela categoria definida na iteração atual\n",
        "    day_data = tips[tips[\"day\"] == day]\n",
        "    # Cria o gráfico de dispersão com os dados filtrados e o posiciona na célula selecionada\n",
        "    ax.scatter(day_data[\"total_bill\"], day_data[\"tip\"], color=\"skyblue\", alpha=0.7, edgecolor=\"black\")\n",
        "    ax.set_title(f\"{day}\", fontsize=14)\n",
        "    ax.set_xlabel(\"Valor Total da Conta (USD)\")\n",
        "    ax.set_ylabel(\"Gorjeta (USD)\")\n",
        "    ax.grid(True, linestyle=\"--\", alpha=0.6)\n",
        "\n",
        "# Ajusta opções gerais do gráfico gerado e o exibe.\n",
        "plt.tight_layout()\n",
        "plt.show()"
      ],
      "metadata": {
        "id": "vG5mu0xq2U_S"
      },
      "execution_count": null,
      "outputs": []
    },
    {
      "cell_type": "markdown",
      "source": [
        "## **1.8-Gráfico de Caixa com Dispersão (combinação)**\n",
        "---\n",
        "<p align=\"justify\">\n",
        "Este notebook apresenta um exemplo de gráfico que combina um gráfico de caixa com um gráfico de dispersão para uma análise mais detalhada dos valores estatísticos de uma variável dividida em múltiplas categorias. Iremos utilizar como base o conjunto de dados <strong>tips</strong> que pode ser acessado através da biblioteca Seaborn, processando-o para dividi-lo de acoro com as categorias da coluna <strong>day</strong>.\n",
        "</p>\n",
        "\n",
        "<p align=\"justify\">\n",
        "Iremos utilizar as bibliotecas Matplotlib para geração dos gráficos, além da Pandas e NumPy para o processamento do conjunto de dados.\n",
        "</p>"
      ],
      "metadata": {
        "id": "o6qMgUWlz8rN"
      }
    },
    {
      "cell_type": "code",
      "source": [
        "import pandas as pd\n",
        "import seaborn as sns\n",
        "import matplotlib.pyplot as plt\n",
        "import numpy as np"
      ],
      "metadata": {
        "id": "K5nJdO_E0KjC"
      },
      "execution_count": null,
      "outputs": []
    },
    {
      "cell_type": "markdown",
      "source": [
        "Iremos carregar o conjunto de dados <strong>tips</strong> utilizando a biblioteca Seaborn. Em seguida, iremos identificar as categorias presentes na coluna <strong>day</strong> e criar conjuntos de dados individuais filtrados de acordo com os valores desta coluna."
      ],
      "metadata": {
        "id": "NojHfEKi0MaZ"
      }
    },
    {
      "cell_type": "code",
      "source": [
        "# Carregar o dataset \"tips\"\n",
        "tips = sns.load_dataset(\"tips\")\n",
        "\n",
        "# Agrupar os dados por dia\n",
        "days = tips[\"day\"].unique()\n",
        "grouped_data = [tips[tips[\"day\"] == day][\"tip\"] for day in days]"
      ],
      "metadata": {
        "id": "L513uCry0RtU"
      },
      "execution_count": 52,
      "outputs": []
    },
    {
      "cell_type": "markdown",
      "source": [
        "De forma geral, seguiremos os seguintes passos para gerar o gráfico combinado:\n",
        "\n",
        "- Criar uma lista contendo o número total de posições necessárias no eixo horizontal do gráfico para exibição de um gráfico de caixa e um gráfico de caixas para cada uma das categorias identificadas;\n",
        "- Criar os gráficos de caixa para cada dia da semana e inserí-los em posições intercaladas no eixo horizontal;\n",
        "- Criar os gráficos de dispersão para cada dia da semana e inserí-los ao lado dos gráficos de caixa."
      ],
      "metadata": {
        "id": "8EgcnmI-0UfS"
      }
    },
    {
      "cell_type": "code",
      "source": [
        "# Configura o tamanho do gráfico\n",
        "plt.figure(figsize=(12, 6))\n",
        "\n",
        "# Cria um ndarray para controlar o posicionamento dos elementos em relação ao eixo horizontal do gráfico\n",
        "positions_boxplot = np.arange(len(days)) * 2\n",
        "\n",
        "# Cria um boxplot utilizando os dados contidos em \"grouped_data\". O parâmetro \"positions\" configura\n",
        "# a posição dos gráficos de caixa de modo que haja espaço pra os gráficos de dispersão para cada categoria\n",
        "plt.boxplot(grouped_data, positions=positions_boxplot, widths=0.6, patch_artist=True, notch=True,\n",
        "            boxprops=dict(facecolor=\"lightgray\", color=\"black\"),\n",
        "            medianprops=dict(color=\"red\", linewidth=2),\n",
        "            whiskerprops=dict(color=\"black\"),\n",
        "            capprops=dict(color=\"black\"))\n",
        "\n",
        "# Cria um novo ndarray com as posições deslocadas em relação aos gráficos de caixa\n",
        "# para posicionamento dos gráficos de dispersão.\n",
        "positions_scatter = positions_boxplot + 0.8\n",
        "\n",
        "# Os gráficos de dispersão precisam ser criados individualmente para cada classe. Para isso,\n",
        "# realizamos uma iteração sobre cada uma das categorias e criamos um gráfico de dispersão\n",
        "# com o deslocamento apropriado.\n",
        "for i, day_data in enumerate(grouped_data):\n",
        "    # Por padrão, todos os pontos do gráfico de dispersão ficariam posicionados no mesmo ponto\n",
        "    # em relação ao eixo horizontal. Para criar um leve deslocamento entre os pontos, criamos\n",
        "    # um objeto com uma distribuição aleatória uniforme que será utilizado junto ao método de\n",
        "    # geração do scatterplot.\n",
        "    jitter = np.random.uniform(-0.2, 0.2, size=len(day_data))\n",
        "    # Gera o scatterplot para a categoria da iteração atual. A posição horizontal de cada ponto\n",
        "    # será definida por uma posição pré-definida no eixo horizontal (positions_scatter) mais um\n",
        "    # deslocamento aleatório (jitter). A posição no eixo vertical será definida unicamento pelo\n",
        "    # valor do atributo day_data, que contém os valores de gorjeta extraídos da categoria.\n",
        "    plt.scatter(positions_scatter[i] + jitter, day_data, alpha=0.7, color=\"skyblue\", edgecolor=\"black\", label=f\"Scatter: {days[i]}\" if i == 0 else \"\")\n",
        "\n",
        "# Configura parâmetros gerais do gráfico.\n",
        "plt.title(\"Gorjetas por Dia da Semana\", fontsize=16)\n",
        "plt.xlabel(\"Dia da Semana\", fontsize=12)\n",
        "plt.ylabel(\"Valor da Gorjeta (USD)\", fontsize=12)\n",
        "plt.xticks((positions_boxplot + positions_scatter) / 2, days, fontsize=10)  # Rótulos entre os grupos\n",
        "plt.grid(axis=\"y\", linestyle=\"--\", alpha=0.6)\n",
        "plt.show()"
      ],
      "metadata": {
        "id": "8fAUNYm40aeE"
      },
      "execution_count": null,
      "outputs": []
    },
    {
      "cell_type": "markdown",
      "source": [
        "## **1.9-Matriz de Confusão**\n",
        "---\n",
        "<p align=\"justify\">\n",
        "Um gráfico importante para o aprendizado de máquina supervisionado é a matriz de confusão. Este gráfico permite visualizar de forma clara o desempenho de um modelo de aprendizado através da comparação entre as categorias previstas pelo modelo com aquelas contidas em um conjunto de dados de referência.\n",
        "</p>\n",
        "\n",
        "<p align=\"justify\">\n",
        "A biblioteca Seaborn suporta a geração de mapas de calor, os quais podem ser utilizados para gerar matrizes de confusão. Para gerar a matriz de confusão, precisaremos gerar uma tabela cruzada que apresenta a contagem de ocorrências de todas as combinações entre classes previstas e reais. Esta tabela pode ser facilmente gerada através do método <strong>crosstab</strong> disponível na biblioteca Pandas.\n",
        "</p>\n",
        "\n",
        "<p align=\"justify\">\n",
        "Este notebook apresenta um exemplo de criação de uma matriz de confusão baseada em um conjunto de dados que apresenta as classes preditas e reais para um modelo de aprendizado fictício. Utilizaremos as bibliotecas Seaborn e Matplotlib para gerar e ajustar os detalhes do gráfico. Também utilizaremos a biblioteca Pandas para processar o conjunto de dados bruto e gerar a tabela cruzada.\n",
        "</p>"
      ],
      "metadata": {
        "id": "FJnBUNTK2-_8"
      }
    },
    {
      "cell_type": "code",
      "source": [
        "import pandas as pd\n",
        "import seaborn as sns\n",
        "import matplotlib.pyplot as plt"
      ],
      "metadata": {
        "id": "o33WnChp3RWP"
      },
      "execution_count": 54,
      "outputs": []
    },
    {
      "cell_type": "markdown",
      "source": [
        "<p align=\"justify\">\n",
        "Utilizaremos um dataset fictício que apresenta duas colunas. A primeira, <strong>True Labels</strong>, apresenta as classes de referência contidas no conjunto de dados utilizado para testar o modelo de aprendizado. A segunda, <strong>Predicted Labels</strong>, apresenta os valores preditos pelo modelo de aprendizado que está sendo avaliado. O conjunto de dados de testes está contido no arquivo <strong>confusion.csv</strong>.\n",
        "</p>"
      ],
      "metadata": {
        "id": "rYnR_kMU3TTz"
      }
    },
    {
      "cell_type": "code",
      "source": [
        "# Carregar o arquivo CSV\n",
        "data = pd.read_csv(\"https://raw.githubusercontent.com/irajamuller/data_science/main/dataset/confusion.csv\")\n",
        "data.head()"
      ],
      "metadata": {
        "id": "Nc0zgiHc3eL6"
      },
      "execution_count": null,
      "outputs": []
    },
    {
      "cell_type": "markdown",
      "source": [
        "Para gerar a matriz de confusão, precisamos converter o conjunto de dados acima em uma tabela cruzada. Para isso, podemos utilizar o método <strong>crosstab</strong> disponível na biblioteca Pandas."
      ],
      "metadata": {
        "id": "88lZxvSv3w_G"
      }
    },
    {
      "cell_type": "code",
      "source": [
        "conf_matrix = pd.crosstab(\n",
        "    index=data[\"True Labels\"],\n",
        "    columns=data[\"Predicted Labels\"]\n",
        ")\n",
        "conf_matrix"
      ],
      "metadata": {
        "id": "U5VtEbDc3054"
      },
      "execution_count": null,
      "outputs": []
    },
    {
      "cell_type": "markdown",
      "source": [
        "Com a tabela cruzada criada podemos utilizar a biblioteca Seaborn para criar um gráfico de heatmap que apresenta a matriz de confusão com o desempenho do modelo de aprendizado fictício."
      ],
      "metadata": {
        "id": "4csnAys336Ew"
      }
    },
    {
      "cell_type": "code",
      "source": [
        "# Utilizamos a classe \"pyplot\" do Matplotlib para ajustar o tamanho da figura do Seaborn\n",
        "plt.figure(figsize=(8, 6))\n",
        "\n",
        "# Cria um gráfico de heatmap utilizando a Seaborn. O primeiro parâmetro contém a tabela cruzada com\n",
        "# os valores da matriz de confusão gerada com o método \"crosstab\" do Pandas. Os demais parâmetros\n",
        "# configuram a estética do mapa de calor.\n",
        "sns.heatmap(conf_matrix, annot=True, cmap=\"Blues\", fmt=\".0f\", cbar=True, square=True)\n",
        "\n",
        "# Podemos utilizar a classe \"pyplot\" do Matplotlib para configurar aspectos gerais do gráfico.\n",
        "plt.title(\"Matriz de Confusão\", fontsize=14)\n",
        "plt.xlabel(\"Classes Preditas\", fontsize=12)\n",
        "plt.ylabel(\"Classes Verdadeiras\", fontsize=12)\n",
        "plt.show()"
      ],
      "metadata": {
        "id": "IEgmrO9N3650"
      },
      "execution_count": null,
      "outputs": []
    }
  ]
}