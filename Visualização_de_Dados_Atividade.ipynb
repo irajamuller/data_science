{
  "nbformat": 4,
  "nbformat_minor": 0,
  "metadata": {
    "colab": {
      "provenance": [],
      "authorship_tag": "ABX9TyPf4CMjUU9Vtf0w2/bR38WQ",
      "include_colab_link": true
    },
    "kernelspec": {
      "name": "python3",
      "display_name": "Python 3"
    },
    "language_info": {
      "name": "python"
    }
  },
  "cells": [
    {
      "cell_type": "markdown",
      "metadata": {
        "id": "view-in-github",
        "colab_type": "text"
      },
      "source": [
        "<a href=\"https://colab.research.google.com/github/irajamuller/data_science/blob/main/Visualiza%C3%A7%C3%A3o_de_Dados_Atividade.ipynb\" target=\"_parent\"><img src=\"https://colab.research.google.com/assets/colab-badge.svg\" alt=\"Open In Colab\"/></a>"
      ]
    },
    {
      "cell_type": "markdown",
      "source": [
        "---\n",
        "# 1 - Exercícios sobre Visualização de Dados\n",
        "---\n",
        "Observe que cada questão vale 0.4, sendo que o total dessa atividade é 2.0.\n",
        "\n",
        "<p align=\"justify\">\n",
        "Iremos utilizar o dataset <strong>Titanic</strong> do Seaborn. O objetivo é visualizar os dados do dataset Titanic.\n",
        "</p>\n"
      ],
      "metadata": {
        "id": "sKsU9LJjeS5j"
      }
    },
    {
      "cell_type": "code",
      "execution_count": null,
      "metadata": {
        "id": "7NBOZ18xdiWG"
      },
      "outputs": [],
      "source": [
        "import seaborn as sns\n",
        "import matplotlib.pyplot as plt\n",
        "import pandas as pd\n",
        "\n",
        "# Carregar o dataset Titanic\n",
        "titanic = sns.load_dataset(\"titanic\")"
      ]
    },
    {
      "cell_type": "markdown",
      "source": [
        "### 1.1 - Crie um gráfico de barras com a contagem de passageiros por classe (eixo X)."
      ],
      "metadata": {
        "id": "9PtQ_XPRegQ0"
      }
    },
    {
      "cell_type": "code",
      "source": [
        "# Resposta AQUI"
      ],
      "metadata": {
        "id": "hAr9Tm8UeoQt"
      },
      "execution_count": null,
      "outputs": []
    },
    {
      "cell_type": "markdown",
      "source": [
        "### 1.2 - Crie um gráfico de linhas que mostre quantos sobreviventes havia por idade (eixo X)."
      ],
      "metadata": {
        "id": "O0pgfTc-e5rd"
      }
    },
    {
      "cell_type": "code",
      "source": [
        "# Resposta AQUI"
      ],
      "metadata": {
        "id": "b_qybA_zhOkZ"
      },
      "execution_count": null,
      "outputs": []
    },
    {
      "cell_type": "markdown",
      "source": [
        "### 1.3 - Crie um gráfico de caixas da idade por sexo (eixo X). Remova tuplas não disponíveis somente para as séries/coluans idade e sexo."
      ],
      "metadata": {
        "id": "6wCdQ-6BhQc1"
      }
    },
    {
      "cell_type": "code",
      "source": [
        "# Resposta AQUI"
      ],
      "metadata": {
        "id": "dQQowbfeihZ8"
      },
      "execution_count": null,
      "outputs": []
    },
    {
      "cell_type": "markdown",
      "source": [
        "### 1.4 - Crie um gráfico de dispersão entre idade (eixo X) e tarifa, colorindo por sobrevivência. Remova tuplas não disponíveis somente para as séries/coluans idade, tarifa e sobreviveu."
      ],
      "metadata": {
        "id": "iFYAx3Yeh-Pc"
      }
    },
    {
      "cell_type": "code",
      "source": [
        "# Resposta AQUI"
      ],
      "metadata": {
        "id": "BiYN4lM7iAIh"
      },
      "execution_count": null,
      "outputs": []
    },
    {
      "cell_type": "markdown",
      "source": [
        "### 1.5 - Crie uma matriz heatmap para todas as séries que são numéricas. Deverá ser usada no dataframe a função corr() que é o cálculo de correlação (coeficiente de correlação de Pearson)."
      ],
      "metadata": {
        "id": "xI1kVeUFjD6Y"
      }
    },
    {
      "cell_type": "code",
      "source": [
        "# Resposta AQUI"
      ],
      "metadata": {
        "id": "mRKwWxVrjOlK"
      },
      "execution_count": null,
      "outputs": []
    }
  ]
}