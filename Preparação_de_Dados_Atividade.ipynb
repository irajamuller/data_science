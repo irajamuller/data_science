{
  "nbformat": 4,
  "nbformat_minor": 0,
  "metadata": {
    "colab": {
      "provenance": [],
      "authorship_tag": "ABX9TyOqKhkT24oJ5qAvCD1ewaxy",
      "include_colab_link": true
    },
    "kernelspec": {
      "name": "python3",
      "display_name": "Python 3"
    },
    "language_info": {
      "name": "python"
    }
  },
  "cells": [
    {
      "cell_type": "markdown",
      "metadata": {
        "id": "view-in-github",
        "colab_type": "text"
      },
      "source": [
        "<a href=\"https://colab.research.google.com/github/irajamuller/data_science/blob/main/Prepara%C3%A7%C3%A3o_de_Dados_Atividade.ipynb\" target=\"_parent\"><img src=\"https://colab.research.google.com/assets/colab-badge.svg\" alt=\"Open In Colab\"/></a>"
      ]
    },
    {
      "cell_type": "markdown",
      "source": [
        "---\n",
        "# 1 - Exercícios sobre Preparação de Dados\n",
        "---\n",
        "Observe que cada questão vale 0.3, sendo que o total dessa atividade é 3.0.\n",
        "\n",
        "<p align=\"justify\">\n",
        "Iremos utilizar o dataset <strong>Diamonds</strong> do Seaborn. O objetivo é trabalharmos com limpeza, normalização, agregação e outliers.\n",
        "</p>\n",
        "\n",
        "<center>\n",
        "\n",
        "| Coluna    | Tipo     | Descrição                                                               |\n",
        "| --------- | -------- | ----------------------------------------------------------------------- |\n",
        "| `carat`   | float64  | Peso do diamante em quilates.                                           |\n",
        "| `cut`     | category | Qualidade do corte do diamante (Fair, Good, Very Good, Premium, Ideal). |\n",
        "| `color`   | category | Cor do diamante, do melhor (D) ao pior (J).                             |\n",
        "| `clarity` | category | Clareza do diamante, de melhor (IF) a pior (I1).                        |\n",
        "| `depth`   | float64  | Profundidade total do diamante (%). Calculado como z / media(x, y).     |\n",
        "| `table`   | float64  | Largura da mesa do diamante (% do topo em relação à largura máxima).    |\n",
        "| `price`   | int64    | Preço do diamante (em dólares americanos).                              |\n",
        "| `x`       | float64  | Comprimento do diamante (em mm).                                        |\n",
        "| `y`       | float64  | Largura do diamante (em mm).                                            |\n",
        "| `z`       | float64  | Altura do diamante (em mm).     \n",
        "                                        |\n",
        "</center>"
      ],
      "metadata": {
        "id": "UyfryieEVvYY"
      }
    },
    {
      "cell_type": "code",
      "execution_count": null,
      "metadata": {
        "id": "VpZ3FYkdUU0_"
      },
      "outputs": [],
      "source": [
        "import pandas as pd\n",
        "import seaborn as sns\n",
        "\n",
        "# Carregamento  do dataset\n",
        "df = sns.load_dataset('diamonds')\n",
        "df.head()"
      ]
    },
    {
      "cell_type": "markdown",
      "source": [
        "### 1.1 - Preencha os valores nulos de depth com a mediana. Coloque o resultado em um novo dataframe."
      ],
      "metadata": {
        "id": "5BhApJNmXUCB"
      }
    },
    {
      "cell_type": "code",
      "source": [
        "# Resposta AQUI"
      ],
      "metadata": {
        "id": "sLIhFecEXOYh"
      },
      "execution_count": null,
      "outputs": []
    },
    {
      "cell_type": "markdown",
      "source": [
        "### 1.2 - Remova linhas com valores nulos. Use o dataframe anterior e atualize-o."
      ],
      "metadata": {
        "id": "VXU2lt0DXcv_"
      }
    },
    {
      "cell_type": "code",
      "source": [
        "# Resposta AQUI"
      ],
      "metadata": {
        "id": "Fy1TTlcsXcCd"
      },
      "execution_count": null,
      "outputs": []
    },
    {
      "cell_type": "markdown",
      "source": [
        "### 1.3 - Remova linhas duplicadas. Use o dataframe anterior e atualize-o."
      ],
      "metadata": {
        "id": "ykZtUDqQZbSg"
      }
    },
    {
      "cell_type": "code",
      "source": [
        "# Resposta AQUI"
      ],
      "metadata": {
        "id": "S29xrdiyZiqw"
      },
      "execution_count": null,
      "outputs": []
    },
    {
      "cell_type": "markdown",
      "source": [
        "### 1.4 - Normalize a coluna price usando Min-Max (nova coluna). Use o dataframe anterior e atualize-o."
      ],
      "metadata": {
        "id": "bJlFIFNJX0qm"
      }
    },
    {
      "cell_type": "code",
      "source": [
        "# Resposta AQUI"
      ],
      "metadata": {
        "id": "-9iIB33YYAcH"
      },
      "execution_count": null,
      "outputs": []
    },
    {
      "cell_type": "markdown",
      "source": [
        "### 1.5 - Normalize a coluna carat usando z-score (nova coluna). Use o dataframe anterior e atualize-o."
      ],
      "metadata": {
        "id": "IET6p2YmYCRG"
      }
    },
    {
      "cell_type": "code",
      "source": [
        "# Resposta AQUI"
      ],
      "metadata": {
        "id": "XXYQvX1SYSKD"
      },
      "execution_count": null,
      "outputs": []
    },
    {
      "cell_type": "markdown",
      "source": [
        "### 1.6 - Remova outliers de carat usando IQR. Use o dataframe anterior e CRIE um novo dataframe."
      ],
      "metadata": {
        "id": "1ZYNWgddYW2z"
      }
    },
    {
      "cell_type": "code",
      "source": [
        "# Resposta AQUI"
      ],
      "metadata": {
        "id": "r7C9NDAoYie6"
      },
      "execution_count": null,
      "outputs": []
    },
    {
      "cell_type": "markdown",
      "source": [
        "### 1.7 - Remova outliers de price com Z-Score (> 3). Use o dataframe anterior e atualize-o."
      ],
      "metadata": {
        "id": "XvhLT0XQYoUq"
      }
    },
    {
      "cell_type": "code",
      "source": [
        "# Resposta AQUI"
      ],
      "metadata": {
        "id": "VRpzS3mhYngH"
      },
      "execution_count": null,
      "outputs": []
    },
    {
      "cell_type": "markdown",
      "source": [
        "### 1.8 - Crie uma coluna caro onde True se o preço for maior que 5000. Use o dataframe anterior."
      ],
      "metadata": {
        "id": "dOZ6CclCZGaW"
      }
    },
    {
      "cell_type": "code",
      "source": [
        "# Resposta AQUI"
      ],
      "metadata": {
        "id": "kELmF6pqZRg9"
      },
      "execution_count": null,
      "outputs": []
    },
    {
      "cell_type": "markdown",
      "source": [
        "### 1.9 - Agrupe por cut e color e agregue-os por média (mean), menor (min) e maior (max) para price e carat. Use o dataframe anterior."
      ],
      "metadata": {
        "id": "bdKqj-nabUVg"
      }
    },
    {
      "cell_type": "code",
      "source": [
        "# Resposta AQUI"
      ],
      "metadata": {
        "id": "NRhSQRyla3yc"
      },
      "execution_count": null,
      "outputs": []
    },
    {
      "cell_type": "markdown",
      "source": [
        "### 1.10 - Quantos diamantes possuem mais de 1 quilate (carat > 1.0) e corte \"Premium\". Use o dataframe anterior."
      ],
      "metadata": {
        "id": "1jseyBtRktrl"
      }
    },
    {
      "cell_type": "code",
      "source": [
        "# Resposta AQUI"
      ],
      "metadata": {
        "id": "jddQMH2Vk55N"
      },
      "execution_count": null,
      "outputs": []
    }
  ]
}